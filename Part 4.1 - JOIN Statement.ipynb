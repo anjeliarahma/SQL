{
 "cells": [
  {
   "cell_type": "markdown",
   "metadata": {},
   "source": [
    "# <b>A. <span style='color:#0B2F9F'><code>PREFIX</code></span></b>\n",
    "Prefix merupakan penggunaan awalan pada nama tabel untuk memberikan informasi tambahan atau untuk mengelompokkan objek-objek tertentu. Sebagai contoh perhatikan gambar berikut : <br><br>\n",
    "\n",
    "<img src=\"https://raw.githubusercontent.com/bachtiyarma/Material/refs/heads/main/Image/Materi-SQL/SQL%20-%20Prefix.png\" width=\"50%\">\n",
    "\n",
    "<br><br>\n",
    "Nama tabel dimisalkan (diberi alias) sebagai tbl, lalu untuk mengakses kolom pada tabel tersebut bisa diberi prefix tbl.kolom1 dan seterusnya"
   ]
  },
  {
   "cell_type": "markdown",
   "metadata": {},
   "source": [
    "#### <i><b><span style='color:#55679C'>Quest</span> : Pada tabel customer_demography, ambil kolom customer_id, gender, age dan married namun gunakan alias 'cdm' pada nama tabel dan sematkan prefixnya saat mengakses kolom!</b></i>"
   ]
  },
  {
   "cell_type": "code",
   "execution_count": 5,
   "metadata": {},
   "outputs": [
    {
     "data": {
      "text/html": [
       "<style type=\"text/css\">\n",
       "</style>\n",
       "<table id=\"T_aba70\">\n",
       "  <thead>\n",
       "    <tr>\n",
       "      <th id=\"T_aba70_level0_col0\" class=\"col_heading level0 col0\" >customer_id</th>\n",
       "      <th id=\"T_aba70_level0_col1\" class=\"col_heading level0 col1\" >gender</th>\n",
       "      <th id=\"T_aba70_level0_col2\" class=\"col_heading level0 col2\" >age</th>\n",
       "      <th id=\"T_aba70_level0_col3\" class=\"col_heading level0 col3\" >married</th>\n",
       "    </tr>\n",
       "  </thead>\n",
       "  <tbody>\n",
       "    <tr>\n",
       "      <td id=\"T_aba70_row0_col0\" class=\"data row0 col0\" >8779-QRDMV</td>\n",
       "      <td id=\"T_aba70_row0_col1\" class=\"data row0 col1\" >Male</td>\n",
       "      <td id=\"T_aba70_row0_col2\" class=\"data row0 col2\" >78</td>\n",
       "      <td id=\"T_aba70_row0_col3\" class=\"data row0 col3\" >No</td>\n",
       "    </tr>\n",
       "    <tr>\n",
       "      <td id=\"T_aba70_row1_col0\" class=\"data row1 col0\" >7495-OOKFY</td>\n",
       "      <td id=\"T_aba70_row1_col1\" class=\"data row1 col1\" >Female</td>\n",
       "      <td id=\"T_aba70_row1_col2\" class=\"data row1 col2\" >74</td>\n",
       "      <td id=\"T_aba70_row1_col3\" class=\"data row1 col3\" >Yes</td>\n",
       "    </tr>\n",
       "    <tr>\n",
       "      <td id=\"T_aba70_row2_col0\" class=\"data row2 col0\" >1658-BYGOY</td>\n",
       "      <td id=\"T_aba70_row2_col1\" class=\"data row2 col1\" >Male</td>\n",
       "      <td id=\"T_aba70_row2_col2\" class=\"data row2 col2\" >71</td>\n",
       "      <td id=\"T_aba70_row2_col3\" class=\"data row2 col3\" >No</td>\n",
       "    </tr>\n",
       "    <tr>\n",
       "      <td id=\"T_aba70_row3_col0\" class=\"data row3 col0\" >4598-XLKNJ</td>\n",
       "      <td id=\"T_aba70_row3_col1\" class=\"data row3 col1\" >Female</td>\n",
       "      <td id=\"T_aba70_row3_col2\" class=\"data row3 col2\" >78</td>\n",
       "      <td id=\"T_aba70_row3_col3\" class=\"data row3 col3\" >Yes</td>\n",
       "    </tr>\n",
       "    <tr>\n",
       "      <td id=\"T_aba70_row4_col0\" class=\"data row4 col0\" >4846-WHAFZ</td>\n",
       "      <td id=\"T_aba70_row4_col1\" class=\"data row4 col1\" >Female</td>\n",
       "      <td id=\"T_aba70_row4_col2\" class=\"data row4 col2\" >80</td>\n",
       "      <td id=\"T_aba70_row4_col3\" class=\"data row4 col3\" >Yes</td>\n",
       "    </tr>\n",
       "    <tr>\n",
       "      <td id=\"T_aba70_row5_col0\" class=\"data row5 col0\" >4412-YLTKF</td>\n",
       "      <td id=\"T_aba70_row5_col1\" class=\"data row5 col1\" >Female</td>\n",
       "      <td id=\"T_aba70_row5_col2\" class=\"data row5 col2\" >72</td>\n",
       "      <td id=\"T_aba70_row5_col3\" class=\"data row5 col3\" >No</td>\n",
       "    </tr>\n",
       "    <tr>\n",
       "      <td id=\"T_aba70_row6_col0\" class=\"data row6 col0\" >0390-DCFDQ</td>\n",
       "      <td id=\"T_aba70_row6_col1\" class=\"data row6 col1\" >Female</td>\n",
       "      <td id=\"T_aba70_row6_col2\" class=\"data row6 col2\" >76</td>\n",
       "      <td id=\"T_aba70_row6_col3\" class=\"data row6 col3\" >Yes</td>\n",
       "    </tr>\n",
       "    <tr>\n",
       "      <td id=\"T_aba70_row7_col0\" class=\"data row7 col0\" >3445-HXXGF</td>\n",
       "      <td id=\"T_aba70_row7_col1\" class=\"data row7 col1\" >Male</td>\n",
       "      <td id=\"T_aba70_row7_col2\" class=\"data row7 col2\" >66</td>\n",
       "      <td id=\"T_aba70_row7_col3\" class=\"data row7 col3\" >Yes</td>\n",
       "    </tr>\n",
       "    <tr>\n",
       "      <td id=\"T_aba70_row8_col0\" class=\"data row8 col0\" >2656-FMOKZ</td>\n",
       "      <td id=\"T_aba70_row8_col1\" class=\"data row8 col1\" >Female</td>\n",
       "      <td id=\"T_aba70_row8_col2\" class=\"data row8 col2\" >70</td>\n",
       "      <td id=\"T_aba70_row8_col3\" class=\"data row8 col3\" >No</td>\n",
       "    </tr>\n",
       "    <tr>\n",
       "      <td id=\"T_aba70_row9_col0\" class=\"data row9 col0\" >2070-FNEXE</td>\n",
       "      <td id=\"T_aba70_row9_col1\" class=\"data row9 col1\" >Female</td>\n",
       "      <td id=\"T_aba70_row9_col2\" class=\"data row9 col2\" >77</td>\n",
       "      <td id=\"T_aba70_row9_col3\" class=\"data row9 col3\" >No</td>\n",
       "    </tr>\n",
       "    <tr>\n",
       "      <td id=\"T_aba70_row10_col0\" class=\"data row10 col0\" >...</td>\n",
       "      <td id=\"T_aba70_row10_col1\" class=\"data row10 col1\" >...</td>\n",
       "      <td id=\"T_aba70_row10_col2\" class=\"data row10 col2\" >...</td>\n",
       "      <td id=\"T_aba70_row10_col3\" class=\"data row10 col3\" >...</td>\n",
       "    </tr>\n",
       "  </tbody>\n",
       "</table>\n"
      ],
      "text/plain": [
       "<pandas.io.formats.style.Styler at 0x14020cc50>"
      ]
     },
     "metadata": {},
     "output_type": "display_data"
    }
   ],
   "source": []
  },
  {
   "cell_type": "markdown",
   "metadata": {},
   "source": [
    "# <b>B. <span style='color:#0B2F9F'><code>JOIN</code></span></b>\n",
    "\n",
    "Data biasanya disimpan di berbagai tabel atau sistem yang berbeda pada RDBMS (Relational Database Management System). JOIN memungkinkan pengguna untuk menggabungkan data dari berbagai sumber untuk mendapatkan gambaran yang lebih lengkap. Memahami query JOIN memungkinkan seorang pengguna untuk mengintegrasikan dan menganalisis data secara efektif, sehingga dapat meningkatkan kualitas analisis dan mendukung pengambilan keputusan berbasis data.\n",
    "\n",
    "Operasi JOIN standar dapat dilakukan jika terdapat kunci pada tiap tabel yang saling terhubung. Operasi join dasar yang paling umum digunakan ada 4 yakni :\n",
    "<ul>\n",
    "    <li><b>LEFT JOIN</b></li>\n",
    "    LEFT JOIN adalah jenis operasi penggabungan baris dari dua tabel, tetapi hanya mengembalikan semua baris dari tabel kiri (tabel pertama) dan baris yang cocok dari tabel kanan (tabel kedua). Jika tidak ada kecocokan di tabel kanan, maka nilai-nilai untuk kolom dari tabel kanan akan diisi dengan NULL.<br><br>\n",
    "    <img src=\"https://thomasadventure.blog/img/left-join-extra.gif\" width=\"20%\">\n",
    "    <br><br>\n",
    "    <li><b>RIGHT JOIN</b></li>\n",
    "    RIGHT JOIN adalah jenis operasi penggabungan baris dari dua tabel, tetapi hanya mengembalikan semua baris dari tabel kanan (tabel kedua) dan baris yang cocok dari tabel kiri (tabel pertama). Jika tidak ada kecocokan di tabel kiri, maka nilai-nilai untuk kolom dari tabel kiri akan diisi dengan NULL.<br><br>\n",
    "    <img src=\"https://thomasadventure.blog/img/right-join.gif\" width=\"20%\">\n",
    "    <br><br>\n",
    "    <li><b>INNER JOIN</b></li>\n",
    "    INNER JOIN adalah jenis operasi penggabungan yang hanya mengembalikan baris yang memiliki kecocokan di kedua tabel berdasarkan kriteria tertentu.<br><br>\n",
    "    <img src=\"https://thomasadventure.blog/img/inner-join.gif\" width=\"20%\">\n",
    "    <br><br>\n",
    "     <li><b>FULL JOIN</b></li>\n",
    "    FULL JOIN adalah jenis operasi penggabungan semua baris dari kedua tabel, baik yang memiliki kecocokan maupun yang tidak. Dengan demikian, hasilnya akan mencakup semua data dari tabel kiri dan tabel kanan.<br><br>\n",
    "    <img src=\"https://thomasadventure.blog/img/full-join.gif\" width=\"20%\">\n",
    "    <br><br>\n",
    "</ul>"
   ]
  },
  {
   "cell_type": "markdown",
   "metadata": {},
   "source": [
    "#### <i><b><span style='color:#55679C'>Pre-Quest</span>\n",
    "Untuk melakukan join biasanya akan lebih mudah jika arsitektur relasi antar tabel atau biasa dikenal ERD (Entity Relational Diagram) telah dibuat atau diketahui. Pada data telco churn ERD-nya disajikan pada gambar berikut<br><br>\n",
    "\n",
    "<img src=\"https://raw.githubusercontent.com/bachtiyarma/Material/refs/heads/main/Image/Materi-SQL/ERD%20-%20Telco%20Churn.png\" width=\"40%\">"
   ]
  },
  {
   "cell_type": "markdown",
   "metadata": {},
   "source": [
    "#### <i><b><span style='color:#55679C'>Quest : </span>Hitung berapa rata-rata biaya bulanan tiap status customer! Tampilkan status, total_customer, avg_monthly_charge! Interpretasikan insight dari hasil perhitungan! "
   ]
  },
  {
   "cell_type": "code",
   "execution_count": 25,
   "metadata": {},
   "outputs": [
    {
     "data": {
      "text/html": [
       "<style type=\"text/css\">\n",
       "</style>\n",
       "<table id=\"T_61b47\">\n",
       "  <thead>\n",
       "    <tr>\n",
       "      <th id=\"T_61b47_level0_col0\" class=\"col_heading level0 col0\" >status</th>\n",
       "      <th id=\"T_61b47_level0_col1\" class=\"col_heading level0 col1\" >total_customer</th>\n",
       "      <th id=\"T_61b47_level0_col2\" class=\"col_heading level0 col2\" >avg_monthly_charge</th>\n",
       "    </tr>\n",
       "  </thead>\n",
       "  <tbody>\n",
       "    <tr>\n",
       "      <td id=\"T_61b47_row0_col0\" class=\"data row0 col0\" >Churned</td>\n",
       "      <td id=\"T_61b47_row0_col1\" class=\"data row0 col1\" >1869</td>\n",
       "      <td id=\"T_61b47_row0_col2\" class=\"data row0 col2\" >74.44</td>\n",
       "    </tr>\n",
       "    <tr>\n",
       "      <td id=\"T_61b47_row1_col0\" class=\"data row1 col0\" >Joined</td>\n",
       "      <td id=\"T_61b47_row1_col1\" class=\"data row1 col1\" >454</td>\n",
       "      <td id=\"T_61b47_row1_col2\" class=\"data row1 col2\" >43.47</td>\n",
       "    </tr>\n",
       "    <tr>\n",
       "      <td id=\"T_61b47_row2_col0\" class=\"data row2 col0\" >Stayed</td>\n",
       "      <td id=\"T_61b47_row2_col1\" class=\"data row2 col1\" >4720</td>\n",
       "      <td id=\"T_61b47_row2_col2\" class=\"data row2 col2\" >62.98</td>\n",
       "    </tr>\n",
       "  </tbody>\n",
       "</table>\n"
      ],
      "text/plain": [
       "<pandas.io.formats.style.Styler at 0x140326850>"
      ]
     },
     "metadata": {},
     "output_type": "display_data"
    }
   ],
   "source": []
  },
  {
   "cell_type": "markdown",
   "metadata": {},
   "source": [
    "<b><span style='color:#FFDB00'><i>Interpretasi Hasil : </i></span></b><br>\n",
    "..."
   ]
  },
  {
   "cell_type": "markdown",
   "metadata": {},
   "source": [
    "#### <i><b><span style='color:#55679C'>Quest : </span>Coba Sudut Pandang Lebih Luas; Hitung berapa banyak customer, rata-rata biaya bulanan & rata-rata umur tiap status customer, gender dan status pernikahannya! Tampilkan status, gender, married, total_customer, avg_monthly_charge! Urutkan hasilnya per metrik perhitungan dan Interpretasikan insight dari hasil perhitungan! "
   ]
  },
  {
   "cell_type": "code",
   "execution_count": 34,
   "metadata": {},
   "outputs": [
    {
     "data": {
      "text/html": [
       "<style type=\"text/css\">\n",
       "</style>\n",
       "<table id=\"T_ebe24\">\n",
       "  <thead>\n",
       "    <tr>\n",
       "      <th id=\"T_ebe24_level0_col0\" class=\"col_heading level0 col0\" >status</th>\n",
       "      <th id=\"T_ebe24_level0_col1\" class=\"col_heading level0 col1\" >gender</th>\n",
       "      <th id=\"T_ebe24_level0_col2\" class=\"col_heading level0 col2\" >married</th>\n",
       "      <th id=\"T_ebe24_level0_col3\" class=\"col_heading level0 col3\" >total_customer</th>\n",
       "      <th id=\"T_ebe24_level0_col4\" class=\"col_heading level0 col4\" >avg_monthly_charge</th>\n",
       "    </tr>\n",
       "  </thead>\n",
       "  <tbody>\n",
       "    <tr>\n",
       "      <td id=\"T_ebe24_row0_col0\" class=\"data row0 col0\" >Churned</td>\n",
       "      <td id=\"T_ebe24_row0_col1\" class=\"data row0 col1\" >Female</td>\n",
       "      <td id=\"T_ebe24_row0_col2\" class=\"data row0 col2\" >Yes</td>\n",
       "      <td id=\"T_ebe24_row0_col3\" class=\"data row0 col3\" >319</td>\n",
       "      <td id=\"T_ebe24_row0_col4\" class=\"data row0 col4\" >78.0</td>\n",
       "    </tr>\n",
       "    <tr>\n",
       "      <td id=\"T_ebe24_row1_col0\" class=\"data row1 col0\" >Churned</td>\n",
       "      <td id=\"T_ebe24_row1_col1\" class=\"data row1 col1\" >Female</td>\n",
       "      <td id=\"T_ebe24_row1_col2\" class=\"data row1 col2\" >No</td>\n",
       "      <td id=\"T_ebe24_row1_col3\" class=\"data row1 col3\" >620</td>\n",
       "      <td id=\"T_ebe24_row1_col4\" class=\"data row1 col4\" >73.17</td>\n",
       "    </tr>\n",
       "    <tr>\n",
       "      <td id=\"T_ebe24_row2_col0\" class=\"data row2 col0\" >Churned</td>\n",
       "      <td id=\"T_ebe24_row2_col1\" class=\"data row2 col1\" >Male</td>\n",
       "      <td id=\"T_ebe24_row2_col2\" class=\"data row2 col2\" >Yes</td>\n",
       "      <td id=\"T_ebe24_row2_col3\" class=\"data row2 col3\" >350</td>\n",
       "      <td id=\"T_ebe24_row2_col4\" class=\"data row2 col4\" >81.45</td>\n",
       "    </tr>\n",
       "    <tr>\n",
       "      <td id=\"T_ebe24_row3_col0\" class=\"data row3 col0\" >Churned</td>\n",
       "      <td id=\"T_ebe24_row3_col1\" class=\"data row3 col1\" >Male</td>\n",
       "      <td id=\"T_ebe24_row3_col2\" class=\"data row3 col2\" >No</td>\n",
       "      <td id=\"T_ebe24_row3_col3\" class=\"data row3 col3\" >580</td>\n",
       "      <td id=\"T_ebe24_row3_col4\" class=\"data row3 col4\" >69.61</td>\n",
       "    </tr>\n",
       "    <tr>\n",
       "      <td id=\"T_ebe24_row4_col0\" class=\"data row4 col0\" >Joined</td>\n",
       "      <td id=\"T_ebe24_row4_col1\" class=\"data row4 col1\" >Female</td>\n",
       "      <td id=\"T_ebe24_row4_col2\" class=\"data row4 col2\" >Yes</td>\n",
       "      <td id=\"T_ebe24_row4_col3\" class=\"data row4 col3\" >46</td>\n",
       "      <td id=\"T_ebe24_row4_col4\" class=\"data row4 col4\" >43.75</td>\n",
       "    </tr>\n",
       "    <tr>\n",
       "      <td id=\"T_ebe24_row5_col0\" class=\"data row5 col0\" >Joined</td>\n",
       "      <td id=\"T_ebe24_row5_col1\" class=\"data row5 col1\" >Female</td>\n",
       "      <td id=\"T_ebe24_row5_col2\" class=\"data row5 col2\" >No</td>\n",
       "      <td id=\"T_ebe24_row5_col3\" class=\"data row5 col3\" >165</td>\n",
       "      <td id=\"T_ebe24_row5_col4\" class=\"data row5 col4\" >43.47</td>\n",
       "    </tr>\n",
       "    <tr>\n",
       "      <td id=\"T_ebe24_row6_col0\" class=\"data row6 col0\" >Joined</td>\n",
       "      <td id=\"T_ebe24_row6_col1\" class=\"data row6 col1\" >Male</td>\n",
       "      <td id=\"T_ebe24_row6_col2\" class=\"data row6 col2\" >Yes</td>\n",
       "      <td id=\"T_ebe24_row6_col3\" class=\"data row6 col3\" >38</td>\n",
       "      <td id=\"T_ebe24_row6_col4\" class=\"data row6 col4\" >48.11</td>\n",
       "    </tr>\n",
       "    <tr>\n",
       "      <td id=\"T_ebe24_row7_col0\" class=\"data row7 col0\" >Joined</td>\n",
       "      <td id=\"T_ebe24_row7_col1\" class=\"data row7 col1\" >Male</td>\n",
       "      <td id=\"T_ebe24_row7_col2\" class=\"data row7 col2\" >No</td>\n",
       "      <td id=\"T_ebe24_row7_col3\" class=\"data row7 col3\" >205</td>\n",
       "      <td id=\"T_ebe24_row7_col4\" class=\"data row7 col4\" >42.55</td>\n",
       "    </tr>\n",
       "    <tr>\n",
       "      <td id=\"T_ebe24_row8_col0\" class=\"data row8 col0\" >Stayed</td>\n",
       "      <td id=\"T_ebe24_row8_col1\" class=\"data row8 col1\" >Female</td>\n",
       "      <td id=\"T_ebe24_row8_col2\" class=\"data row8 col2\" >Yes</td>\n",
       "      <td id=\"T_ebe24_row8_col3\" class=\"data row8 col3\" >1323</td>\n",
       "      <td id=\"T_ebe24_row8_col4\" class=\"data row8 col4\" >64.67</td>\n",
       "    </tr>\n",
       "    <tr>\n",
       "      <td id=\"T_ebe24_row9_col0\" class=\"data row9 col0\" >Stayed</td>\n",
       "      <td id=\"T_ebe24_row9_col1\" class=\"data row9 col1\" >Female</td>\n",
       "      <td id=\"T_ebe24_row9_col2\" class=\"data row9 col2\" >No</td>\n",
       "      <td id=\"T_ebe24_row9_col3\" class=\"data row9 col3\" >1015</td>\n",
       "      <td id=\"T_ebe24_row9_col4\" class=\"data row9 col4\" >61.51</td>\n",
       "    </tr>\n",
       "    <tr>\n",
       "      <td id=\"T_ebe24_row10_col0\" class=\"data row10 col0\" >Stayed</td>\n",
       "      <td id=\"T_ebe24_row10_col1\" class=\"data row10 col1\" >Male</td>\n",
       "      <td id=\"T_ebe24_row10_col2\" class=\"data row10 col2\" >Yes</td>\n",
       "      <td id=\"T_ebe24_row10_col3\" class=\"data row10 col3\" >1326</td>\n",
       "      <td id=\"T_ebe24_row10_col4\" class=\"data row10 col4\" >66.2</td>\n",
       "    </tr>\n",
       "    <tr>\n",
       "      <td id=\"T_ebe24_row11_col0\" class=\"data row11 col0\" >Stayed</td>\n",
       "      <td id=\"T_ebe24_row11_col1\" class=\"data row11 col1\" >Male</td>\n",
       "      <td id=\"T_ebe24_row11_col2\" class=\"data row11 col2\" >No</td>\n",
       "      <td id=\"T_ebe24_row11_col3\" class=\"data row11 col3\" >1056</td>\n",
       "      <td id=\"T_ebe24_row11_col4\" class=\"data row11 col4\" >58.21</td>\n",
       "    </tr>\n",
       "  </tbody>\n",
       "</table>\n"
      ],
      "text/plain": [
       "<pandas.io.formats.style.Styler at 0x156044c50>"
      ]
     },
     "metadata": {},
     "output_type": "display_data"
    }
   ],
   "source": []
  },
  {
   "cell_type": "markdown",
   "metadata": {},
   "source": [
    "<b><span style='color:#FFDB00'><i>Interpretasi Hasil : </i></span></b><br>\n",
    "..."
   ]
  },
  {
   "cell_type": "markdown",
   "metadata": {},
   "source": [
    "#### <i><b><span style='color:#55679C'>Quest : </span>Bagaimana dengan total tenure ? Hitung berapa rata-rata tenure_in_month tiap status customer! Tampilkan status, total_customer, avg_tenure_in_month! Interpretasikan insight dari hasil perhitungan! "
   ]
  },
  {
   "cell_type": "code",
   "execution_count": 27,
   "metadata": {},
   "outputs": [
    {
     "data": {
      "text/html": [
       "<style type=\"text/css\">\n",
       "</style>\n",
       "<table id=\"T_9621b\">\n",
       "  <thead>\n",
       "    <tr>\n",
       "      <th id=\"T_9621b_level0_col0\" class=\"col_heading level0 col0\" >status</th>\n",
       "      <th id=\"T_9621b_level0_col1\" class=\"col_heading level0 col1\" >total_customer</th>\n",
       "      <th id=\"T_9621b_level0_col2\" class=\"col_heading level0 col2\" >avg_tenure_in_month</th>\n",
       "    </tr>\n",
       "  </thead>\n",
       "  <tbody>\n",
       "    <tr>\n",
       "      <td id=\"T_9621b_row0_col0\" class=\"data row0 col0\" >Churned</td>\n",
       "      <td id=\"T_9621b_row0_col1\" class=\"data row0 col1\" >1869</td>\n",
       "      <td id=\"T_9621b_row0_col2\" class=\"data row0 col2\" >17.98</td>\n",
       "    </tr>\n",
       "    <tr>\n",
       "      <td id=\"T_9621b_row1_col0\" class=\"data row1 col0\" >Joined</td>\n",
       "      <td id=\"T_9621b_row1_col1\" class=\"data row1 col1\" >454</td>\n",
       "      <td id=\"T_9621b_row1_col2\" class=\"data row1 col2\" >1.72</td>\n",
       "    </tr>\n",
       "    <tr>\n",
       "      <td id=\"T_9621b_row2_col0\" class=\"data row2 col0\" >Stayed</td>\n",
       "      <td id=\"T_9621b_row2_col1\" class=\"data row2 col1\" >4720</td>\n",
       "      <td id=\"T_9621b_row2_col2\" class=\"data row2 col2\" >41.04</td>\n",
       "    </tr>\n",
       "  </tbody>\n",
       "</table>\n"
      ],
      "text/plain": [
       "<pandas.io.formats.style.Styler at 0x1400c6790>"
      ]
     },
     "metadata": {},
     "output_type": "display_data"
    }
   ],
   "source": []
  },
  {
   "cell_type": "markdown",
   "metadata": {},
   "source": [
    "<b><span style='color:#FFDB00'><i>Interpretasi Hasil : </i></span></b><br>\n",
    "..."
   ]
  },
  {
   "cell_type": "markdown",
   "metadata": {},
   "source": [
    "#### <i><b><span style='color:#55679C'>Quest : </span>Perusahaan telekomunikasi ingin melakukan perluasan market ke beberapa daerah yang mana di daerah tersebut belum ada pelanggan terdaftar dalam database. Buatkan daftar kode pos pada tabel population yang sama sekali belum ada orang yang menggunakan layanan telekomunikasi! Tampilkan kode pos dan jumlah populasinya!"
   ]
  },
  {
   "cell_type": "code",
   "execution_count": 21,
   "metadata": {},
   "outputs": [
    {
     "data": {
      "text/html": [
       "<style type=\"text/css\">\n",
       "</style>\n",
       "<table id=\"T_8dab3\">\n",
       "  <thead>\n",
       "    <tr>\n",
       "      <th id=\"T_8dab3_level0_col0\" class=\"col_heading level0 col0\" >zip_code</th>\n",
       "      <th id=\"T_8dab3_level0_col1\" class=\"col_heading level0 col1\" >population</th>\n",
       "      <th id=\"T_8dab3_level0_col2\" class=\"col_heading level0 col2\" >total_customer</th>\n",
       "    </tr>\n",
       "  </thead>\n",
       "  <tbody>\n",
       "    <tr>\n",
       "      <td id=\"T_8dab3_row0_col0\" class=\"data row0 col0\" >91402</td>\n",
       "      <td id=\"T_8dab3_row0_col1\" class=\"data row0 col1\" >66249</td>\n",
       "      <td id=\"T_8dab3_row0_col2\" class=\"data row0 col2\" >0</td>\n",
       "    </tr>\n",
       "    <tr>\n",
       "      <td id=\"T_8dab3_row1_col0\" class=\"data row1 col0\" >95023</td>\n",
       "      <td id=\"T_8dab3_row1_col1\" class=\"data row1 col1\" >47514</td>\n",
       "      <td id=\"T_8dab3_row1_col2\" class=\"data row1 col2\" >0</td>\n",
       "    </tr>\n",
       "    <tr>\n",
       "      <td id=\"T_8dab3_row2_col0\" class=\"data row2 col0\" >90020</td>\n",
       "      <td id=\"T_8dab3_row2_col1\" class=\"data row2 col1\" >42394</td>\n",
       "      <td id=\"T_8dab3_row2_col2\" class=\"data row2 col2\" >0</td>\n",
       "    </tr>\n",
       "    <tr>\n",
       "      <td id=\"T_8dab3_row3_col0\" class=\"data row3 col0\" >92307</td>\n",
       "      <td id=\"T_8dab3_row3_col1\" class=\"data row3 col1\" >31876</td>\n",
       "      <td id=\"T_8dab3_row3_col2\" class=\"data row3 col2\" >0</td>\n",
       "    </tr>\n",
       "    <tr>\n",
       "      <td id=\"T_8dab3_row4_col0\" class=\"data row4 col0\" >93555</td>\n",
       "      <td id=\"T_8dab3_row4_col1\" class=\"data row4 col1\" >29782</td>\n",
       "      <td id=\"T_8dab3_row4_col2\" class=\"data row4 col2\" >0</td>\n",
       "    </tr>\n",
       "    <tr>\n",
       "      <td id=\"T_8dab3_row5_col0\" class=\"data row5 col0\" >95531</td>\n",
       "      <td id=\"T_8dab3_row5_col1\" class=\"data row5 col1\" >23792</td>\n",
       "      <td id=\"T_8dab3_row5_col2\" class=\"data row5 col2\" >0</td>\n",
       "    </tr>\n",
       "    <tr>\n",
       "      <td id=\"T_8dab3_row6_col0\" class=\"data row6 col0\" >92277</td>\n",
       "      <td id=\"T_8dab3_row6_col1\" class=\"data row6 col1\" >17178</td>\n",
       "      <td id=\"T_8dab3_row6_col2\" class=\"data row6 col2\" >0</td>\n",
       "    </tr>\n",
       "    <tr>\n",
       "      <td id=\"T_8dab3_row7_col0\" class=\"data row7 col0\" >96161</td>\n",
       "      <td id=\"T_8dab3_row7_col1\" class=\"data row7 col1\" >15783</td>\n",
       "      <td id=\"T_8dab3_row7_col2\" class=\"data row7 col2\" >0</td>\n",
       "    </tr>\n",
       "    <tr>\n",
       "      <td id=\"T_8dab3_row8_col0\" class=\"data row8 col0\" >93640</td>\n",
       "      <td id=\"T_8dab3_row8_col1\" class=\"data row8 col1\" >9174</td>\n",
       "      <td id=\"T_8dab3_row8_col2\" class=\"data row8 col2\" >0</td>\n",
       "    </tr>\n",
       "    <tr>\n",
       "      <td id=\"T_8dab3_row9_col0\" class=\"data row9 col0\" >96064</td>\n",
       "      <td id=\"T_8dab3_row9_col1\" class=\"data row9 col1\" >4592</td>\n",
       "      <td id=\"T_8dab3_row9_col2\" class=\"data row9 col2\" >0</td>\n",
       "    </tr>\n",
       "    <tr>\n",
       "      <td id=\"T_8dab3_row10_col0\" class=\"data row10 col0\" >...</td>\n",
       "      <td id=\"T_8dab3_row10_col1\" class=\"data row10 col1\" >...</td>\n",
       "      <td id=\"T_8dab3_row10_col2\" class=\"data row10 col2\" >...</td>\n",
       "    </tr>\n",
       "  </tbody>\n",
       "</table>\n"
      ],
      "text/plain": [
       "<pandas.io.formats.style.Styler at 0x1511ce350>"
      ]
     },
     "metadata": {},
     "output_type": "display_data"
    }
   ],
   "source": []
  },
  {
   "cell_type": "markdown",
   "metadata": {},
   "source": [
    "<b><span style='color:#FFDB00'><i>Interpretasi Hasil : </i></span></b><br>\n",
    "..."
   ]
  },
  {
   "cell_type": "markdown",
   "metadata": {},
   "source": [
    "#### <i><b><span style='color:#55679C'>Quest 1 : </span> (From DQSquad)"
   ]
  },
  {
   "cell_type": "code",
   "execution_count": null,
   "metadata": {},
   "outputs": [],
   "source": []
  },
  {
   "cell_type": "markdown",
   "metadata": {},
   "source": [
    "#### <i><b><span style='color:#55679C'>Quest 2 : </span> (From DQSquad)"
   ]
  },
  {
   "cell_type": "code",
   "execution_count": null,
   "metadata": {},
   "outputs": [],
   "source": []
  },
  {
   "cell_type": "markdown",
   "metadata": {},
   "source": [
    "#### <i><b><span style='color:#55679C'>Quest 3 : </span> (From DQSquad)"
   ]
  },
  {
   "cell_type": "code",
   "execution_count": null,
   "metadata": {},
   "outputs": [],
   "source": []
  }
 ],
 "metadata": {
  "kernelspec": {
   "display_name": "base",
   "language": "python",
   "name": "python3"
  },
  "language_info": {
   "codemirror_mode": {
    "name": "ipython",
    "version": 3
   },
   "file_extension": ".py",
   "mimetype": "text/x-python",
   "name": "python",
   "nbconvert_exporter": "python",
   "pygments_lexer": "ipython3",
   "version": "3.11.8"
  }
 },
 "nbformat": 4,
 "nbformat_minor": 2
}
