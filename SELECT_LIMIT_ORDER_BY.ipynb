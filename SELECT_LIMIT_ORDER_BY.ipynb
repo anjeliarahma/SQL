{
  "cells": [
    {
      "cell_type": "markdown",
      "metadata": {
        "id": "vMRdrNTW6wTx"
      },
      "source": [
        "<a id=\"A\"></a>\n",
        "# <b>A. <span style='color:#0B2F9F'><code>SELECT</code></span></b>\n",
        "\n",
        "Perintah `SELECT` bertujuan untuk mengambil dan menampilkan data dari tabel di database. Ini penting untuk analisis karena saat menganalisa data perlu mengakses data yang relevan untuk dianalisis seperti mengidentifikasi pola, tren, dan informasi penting lainnya."
      ]
    },
    {
      "cell_type": "markdown",
      "metadata": {
        "id": "OKyNKuH66wTz"
      },
      "source": [
        "<a id=\"A.1.\"></a>\n",
        "## <b>A.1. <span style='color:#0B2F9F'>Menampilkan Semua Data pada Satu Tabel</span></b>\n",
        "\n",
        "Untuk dapat menampilkan semua isi (data) pada sebuah tabel, eksekusi perintah\n",
        "\n",
        "<img src=\"https://raw.githubusercontent.com/bachtiyarma/Material/main/Image/Materi-SQL/SQL-Select1.png\" width=\"50%\">\n",
        "\n",
        "Dalam perintah `SELECT`, tanda bintang (*) digunakan untuk memilih semua kolom dari tabel yang disebutkan. Cara ini merupakan cara cepat untuk mengambil seluruh data tanpa perlu menyebutkan nama-nama kolom satu per satu.\n",
        "\n",
        "<i>docs : <a href=\"https://dev.mysql.com/doc/refman/8.4/en/selecting-all.html\">https://dev.mysql.com/doc/refman/8.4/en/selecting-all.html</a></i>"
      ]
    },
    {
      "cell_type": "markdown",
      "metadata": {
        "id": "dYkuZ9K_6wTz"
      },
      "source": [
        "#### <i><b><span style='color:#55679C'>Quest</span> : Tampilkan semua data pada tabel customer_status!</b></i>"
      ]
    },
    {
      "cell_type": "code",
      "execution_count": null,
      "metadata": {
        "id": "kNKd80JC6wT0",
        "outputId": "245d4f72-ad51-4f1a-f15c-7b4193c495db"
      },
      "outputs": [
        {
          "data": {
            "text/html": [
              "<style type=\"text/css\">\n",
              "</style>\n",
              "<table id=\"T_5f396\">\n",
              "  <thead>\n",
              "    <tr>\n",
              "      <th id=\"T_5f396_level0_col0\" class=\"col_heading level0 col0\" >customer_id</th>\n",
              "      <th id=\"T_5f396_level0_col1\" class=\"col_heading level0 col1\" >satisfaction_score</th>\n",
              "      <th id=\"T_5f396_level0_col2\" class=\"col_heading level0 col2\" >status</th>\n",
              "      <th id=\"T_5f396_level0_col3\" class=\"col_heading level0 col3\" >churn_label</th>\n",
              "      <th id=\"T_5f396_level0_col4\" class=\"col_heading level0 col4\" >churn_score</th>\n",
              "      <th id=\"T_5f396_level0_col5\" class=\"col_heading level0 col5\" >cltv</th>\n",
              "      <th id=\"T_5f396_level0_col6\" class=\"col_heading level0 col6\" >churn_category</th>\n",
              "      <th id=\"T_5f396_level0_col7\" class=\"col_heading level0 col7\" >churn_reason</th>\n",
              "    </tr>\n",
              "  </thead>\n",
              "  <tbody>\n",
              "    <tr>\n",
              "      <td id=\"T_5f396_row0_col0\" class=\"data row0 col0\" >2737-WFVYW</td>\n",
              "      <td id=\"T_5f396_row0_col1\" class=\"data row0 col1\" >1</td>\n",
              "      <td id=\"T_5f396_row0_col2\" class=\"data row0 col2\" >Churned</td>\n",
              "      <td id=\"T_5f396_row0_col3\" class=\"data row0 col3\" >Yes</td>\n",
              "      <td id=\"T_5f396_row0_col4\" class=\"data row0 col4\" >74</td>\n",
              "      <td id=\"T_5f396_row0_col5\" class=\"data row0 col5\" >4566</td>\n",
              "      <td id=\"T_5f396_row0_col6\" class=\"data row0 col6\" >Dissatisfaction</td>\n",
              "      <td id=\"T_5f396_row0_col7\" class=\"data row0 col7\" >Product dissatisfaction</td>\n",
              "    </tr>\n",
              "    <tr>\n",
              "      <td id=\"T_5f396_row1_col0\" class=\"data row1 col0\" >5158-RIVOP</td>\n",
              "      <td id=\"T_5f396_row1_col1\" class=\"data row1 col1\" >5</td>\n",
              "      <td id=\"T_5f396_row1_col2\" class=\"data row1 col2\" >Stayed</td>\n",
              "      <td id=\"T_5f396_row1_col3\" class=\"data row1 col3\" >No</td>\n",
              "      <td id=\"T_5f396_row1_col4\" class=\"data row1 col4\" >63</td>\n",
              "      <td id=\"T_5f396_row1_col5\" class=\"data row1 col5\" >5359</td>\n",
              "      <td id=\"T_5f396_row1_col6\" class=\"data row1 col6\" >nan</td>\n",
              "      <td id=\"T_5f396_row1_col7\" class=\"data row1 col7\" >nan</td>\n",
              "    </tr>\n",
              "    <tr>\n",
              "      <td id=\"T_5f396_row2_col0\" class=\"data row2 col0\" >9095-HFAFX</td>\n",
              "      <td id=\"T_5f396_row2_col1\" class=\"data row2 col1\" >2</td>\n",
              "      <td id=\"T_5f396_row2_col2\" class=\"data row2 col2\" >Churned</td>\n",
              "      <td id=\"T_5f396_row2_col3\" class=\"data row2 col3\" >Yes</td>\n",
              "      <td id=\"T_5f396_row2_col4\" class=\"data row2 col4\" >96</td>\n",
              "      <td id=\"T_5f396_row2_col5\" class=\"data row2 col5\" >3718</td>\n",
              "      <td id=\"T_5f396_row2_col6\" class=\"data row2 col6\" >Competitor</td>\n",
              "      <td id=\"T_5f396_row2_col7\" class=\"data row2 col7\" >Competitor made better offer</td>\n",
              "    </tr>\n",
              "    <tr>\n",
              "      <td id=\"T_5f396_row3_col0\" class=\"data row3 col0\" >3580-REOAC</td>\n",
              "      <td id=\"T_5f396_row3_col1\" class=\"data row3 col1\" >2</td>\n",
              "      <td id=\"T_5f396_row3_col2\" class=\"data row3 col2\" >Churned</td>\n",
              "      <td id=\"T_5f396_row3_col3\" class=\"data row3 col3\" >Yes</td>\n",
              "      <td id=\"T_5f396_row3_col4\" class=\"data row3 col4\" >83</td>\n",
              "      <td id=\"T_5f396_row3_col5\" class=\"data row3 col5\" >4061</td>\n",
              "      <td id=\"T_5f396_row3_col6\" class=\"data row3 col6\" >Competitor</td>\n",
              "      <td id=\"T_5f396_row3_col7\" class=\"data row3 col7\" >Competitor made better offer</td>\n",
              "    </tr>\n",
              "    <tr>\n",
              "      <td id=\"T_5f396_row4_col0\" class=\"data row4 col0\" >9705-IOVQQ</td>\n",
              "      <td id=\"T_5f396_row4_col1\" class=\"data row4 col1\" >5</td>\n",
              "      <td id=\"T_5f396_row4_col2\" class=\"data row4 col2\" >Stayed</td>\n",
              "      <td id=\"T_5f396_row4_col3\" class=\"data row4 col3\" >No</td>\n",
              "      <td id=\"T_5f396_row4_col4\" class=\"data row4 col4\" >20</td>\n",
              "      <td id=\"T_5f396_row4_col5\" class=\"data row4 col5\" >5177</td>\n",
              "      <td id=\"T_5f396_row4_col6\" class=\"data row4 col6\" >nan</td>\n",
              "      <td id=\"T_5f396_row4_col7\" class=\"data row4 col7\" >nan</td>\n",
              "    </tr>\n",
              "    <tr>\n",
              "      <td id=\"T_5f396_row5_col0\" class=\"data row5 col0\" >7636-OWBPG</td>\n",
              "      <td id=\"T_5f396_row5_col1\" class=\"data row5 col1\" >3</td>\n",
              "      <td id=\"T_5f396_row5_col2\" class=\"data row5 col2\" >Stayed</td>\n",
              "      <td id=\"T_5f396_row5_col3\" class=\"data row5 col3\" >No</td>\n",
              "      <td id=\"T_5f396_row5_col4\" class=\"data row5 col4\" >27</td>\n",
              "      <td id=\"T_5f396_row5_col5\" class=\"data row5 col5\" >3606</td>\n",
              "      <td id=\"T_5f396_row5_col6\" class=\"data row5 col6\" >nan</td>\n",
              "      <td id=\"T_5f396_row5_col7\" class=\"data row5 col7\" >nan</td>\n",
              "    </tr>\n",
              "    <tr>\n",
              "      <td id=\"T_5f396_row6_col0\" class=\"data row6 col0\" >3235-ETOOB</td>\n",
              "      <td id=\"T_5f396_row6_col1\" class=\"data row6 col1\" >2</td>\n",
              "      <td id=\"T_5f396_row6_col2\" class=\"data row6 col2\" >Churned</td>\n",
              "      <td id=\"T_5f396_row6_col3\" class=\"data row6 col3\" >Yes</td>\n",
              "      <td id=\"T_5f396_row6_col4\" class=\"data row6 col4\" >88</td>\n",
              "      <td id=\"T_5f396_row6_col5\" class=\"data row6 col5\" >3683</td>\n",
              "      <td id=\"T_5f396_row6_col6\" class=\"data row6 col6\" >Competitor</td>\n",
              "      <td id=\"T_5f396_row6_col7\" class=\"data row6 col7\" >Competitor made better offer</td>\n",
              "    </tr>\n",
              "    <tr>\n",
              "      <td id=\"T_5f396_row7_col0\" class=\"data row7 col0\" >7176-WRTNX</td>\n",
              "      <td id=\"T_5f396_row7_col1\" class=\"data row7 col1\" >3</td>\n",
              "      <td id=\"T_5f396_row7_col2\" class=\"data row7 col2\" >Stayed</td>\n",
              "      <td id=\"T_5f396_row7_col3\" class=\"data row7 col3\" >No</td>\n",
              "      <td id=\"T_5f396_row7_col4\" class=\"data row7 col4\" >26</td>\n",
              "      <td id=\"T_5f396_row7_col5\" class=\"data row7 col5\" >4511</td>\n",
              "      <td id=\"T_5f396_row7_col6\" class=\"data row7 col6\" >nan</td>\n",
              "      <td id=\"T_5f396_row7_col7\" class=\"data row7 col7\" >nan</td>\n",
              "    </tr>\n",
              "    <tr>\n",
              "      <td id=\"T_5f396_row8_col0\" class=\"data row8 col0\" >7968-QUXNS</td>\n",
              "      <td id=\"T_5f396_row8_col1\" class=\"data row8 col1\" >4</td>\n",
              "      <td id=\"T_5f396_row8_col2\" class=\"data row8 col2\" >Stayed</td>\n",
              "      <td id=\"T_5f396_row8_col3\" class=\"data row8 col3\" >No</td>\n",
              "      <td id=\"T_5f396_row8_col4\" class=\"data row8 col4\" >68</td>\n",
              "      <td id=\"T_5f396_row8_col5\" class=\"data row8 col5\" >5920</td>\n",
              "      <td id=\"T_5f396_row8_col6\" class=\"data row8 col6\" >nan</td>\n",
              "      <td id=\"T_5f396_row8_col7\" class=\"data row8 col7\" >nan</td>\n",
              "    </tr>\n",
              "    <tr>\n",
              "      <td id=\"T_5f396_row9_col0\" class=\"data row9 col0\" >2904-GGUAZ</td>\n",
              "      <td id=\"T_5f396_row9_col1\" class=\"data row9 col1\" >4</td>\n",
              "      <td id=\"T_5f396_row9_col2\" class=\"data row9 col2\" >Stayed</td>\n",
              "      <td id=\"T_5f396_row9_col3\" class=\"data row9 col3\" >No</td>\n",
              "      <td id=\"T_5f396_row9_col4\" class=\"data row9 col4\" >47</td>\n",
              "      <td id=\"T_5f396_row9_col5\" class=\"data row9 col5\" >5515</td>\n",
              "      <td id=\"T_5f396_row9_col6\" class=\"data row9 col6\" >nan</td>\n",
              "      <td id=\"T_5f396_row9_col7\" class=\"data row9 col7\" >nan</td>\n",
              "    </tr>\n",
              "    <tr>\n",
              "      <td id=\"T_5f396_row10_col0\" class=\"data row10 col0\" >...</td>\n",
              "      <td id=\"T_5f396_row10_col1\" class=\"data row10 col1\" >...</td>\n",
              "      <td id=\"T_5f396_row10_col2\" class=\"data row10 col2\" >...</td>\n",
              "      <td id=\"T_5f396_row10_col3\" class=\"data row10 col3\" >...</td>\n",
              "      <td id=\"T_5f396_row10_col4\" class=\"data row10 col4\" >...</td>\n",
              "      <td id=\"T_5f396_row10_col5\" class=\"data row10 col5\" >...</td>\n",
              "      <td id=\"T_5f396_row10_col6\" class=\"data row10 col6\" >...</td>\n",
              "      <td id=\"T_5f396_row10_col7\" class=\"data row10 col7\" >...</td>\n",
              "    </tr>\n",
              "  </tbody>\n",
              "</table>\n"
            ],
            "text/plain": [
              "<pandas.io.formats.style.Styler at 0x17745b550>"
            ]
          },
          "metadata": {},
          "output_type": "display_data"
        }
      ],
      "source": [
        "Select * from anjel-project.Telco_Churn.Customer_Status"
      ]
    },
    {
      "cell_type": "markdown",
      "metadata": {
        "id": "wnRYsRQm6wT0"
      },
      "source": [
        "<a id=\"A.2.\"></a>\n",
        "## <b>A.2. <span style='color:#0B2F9F'>Menampilkan Kolom Tertentu pada Satu Tabel</span></b>\n",
        "\n",
        "Untuk dapat menampilkan isi data pada kolom tertentu pada sebuah tabel, eksekusi perintah\n",
        "\n",
        "<img src=\"https://raw.githubusercontent.com/bachtiyarma/Material/main/Image/Materi-SQL/SQL-Select2.png\" width=\"50%\">\n",
        "\n",
        "Gunakan tanda koma untuk mendaftarkan nama kolom yang ingin ditampilkan. Kolom yang disebutkan pertama kali akan ditampilkan paling kiri begitu juga dengan kolom kedua hingga kolom terakhir.\n",
        "\n",
        "<i>docs : <a href=\"https://dev.mysql.com/doc/refman/8.4/en/selecting-columns.html\">https://dev.mysql.com/doc/refman/8.4/en/selecting-columns.html</a></i>"
      ]
    },
    {
      "cell_type": "markdown",
      "metadata": {
        "id": "k2KVYJh56wT1"
      },
      "source": [
        "#### <i><b><span style='color:#55679C'>Quest</span> : Tampilkan kolom customer_id, status dan churn_reason pada tabel customer_status!</b></i>"
      ]
    },
    {
      "cell_type": "code",
      "execution_count": null,
      "metadata": {
        "id": "ccbFYtQD6wT1",
        "outputId": "827476c1-5b63-444b-bbe8-c92e26d4433f"
      },
      "outputs": [
        {
          "data": {
            "text/html": [
              "<style type=\"text/css\">\n",
              "</style>\n",
              "<table id=\"T_a7796\">\n",
              "  <thead>\n",
              "    <tr>\n",
              "      <th id=\"T_a7796_level0_col0\" class=\"col_heading level0 col0\" >customer_id</th>\n",
              "      <th id=\"T_a7796_level0_col1\" class=\"col_heading level0 col1\" >status</th>\n",
              "      <th id=\"T_a7796_level0_col2\" class=\"col_heading level0 col2\" >churn_reason</th>\n",
              "    </tr>\n",
              "  </thead>\n",
              "  <tbody>\n",
              "    <tr>\n",
              "      <td id=\"T_a7796_row0_col0\" class=\"data row0 col0\" >5394-SVGJV</td>\n",
              "      <td id=\"T_a7796_row0_col1\" class=\"data row0 col1\" >Churned</td>\n",
              "      <td id=\"T_a7796_row0_col2\" class=\"data row0 col2\" >Competitor made better offer</td>\n",
              "    </tr>\n",
              "    <tr>\n",
              "      <td id=\"T_a7796_row1_col0\" class=\"data row1 col0\" >1194-HVAIF</td>\n",
              "      <td id=\"T_a7796_row1_col1\" class=\"data row1 col1\" >Stayed</td>\n",
              "      <td id=\"T_a7796_row1_col2\" class=\"data row1 col2\" >nan</td>\n",
              "    </tr>\n",
              "    <tr>\n",
              "      <td id=\"T_a7796_row2_col0\" class=\"data row2 col0\" >8384-FZBJK</td>\n",
              "      <td id=\"T_a7796_row2_col1\" class=\"data row2 col1\" >Stayed</td>\n",
              "      <td id=\"T_a7796_row2_col2\" class=\"data row2 col2\" >nan</td>\n",
              "    </tr>\n",
              "    <tr>\n",
              "      <td id=\"T_a7796_row3_col0\" class=\"data row3 col0\" >3908-MKIMJ</td>\n",
              "      <td id=\"T_a7796_row3_col1\" class=\"data row3 col1\" >Stayed</td>\n",
              "      <td id=\"T_a7796_row3_col2\" class=\"data row3 col2\" >nan</td>\n",
              "    </tr>\n",
              "    <tr>\n",
              "      <td id=\"T_a7796_row4_col0\" class=\"data row4 col0\" >3871-IKPYH</td>\n",
              "      <td id=\"T_a7796_row4_col1\" class=\"data row4 col1\" >Churned</td>\n",
              "      <td id=\"T_a7796_row4_col2\" class=\"data row4 col2\" >Moved</td>\n",
              "    </tr>\n",
              "    <tr>\n",
              "      <td id=\"T_a7796_row5_col0\" class=\"data row5 col0\" >3791-LGQCY</td>\n",
              "      <td id=\"T_a7796_row5_col1\" class=\"data row5 col1\" >Churned</td>\n",
              "      <td id=\"T_a7796_row5_col2\" class=\"data row5 col2\" >Attitude of support person</td>\n",
              "    </tr>\n",
              "    <tr>\n",
              "      <td id=\"T_a7796_row6_col0\" class=\"data row6 col0\" >6877-LGWXO</td>\n",
              "      <td id=\"T_a7796_row6_col1\" class=\"data row6 col1\" >Churned</td>\n",
              "      <td id=\"T_a7796_row6_col2\" class=\"data row6 col2\" >Attitude of support person</td>\n",
              "    </tr>\n",
              "    <tr>\n",
              "      <td id=\"T_a7796_row7_col0\" class=\"data row7 col0\" >4307-KTUMW</td>\n",
              "      <td id=\"T_a7796_row7_col1\" class=\"data row7 col1\" >Churned</td>\n",
              "      <td id=\"T_a7796_row7_col2\" class=\"data row7 col2\" >Attitude of service provider</td>\n",
              "    </tr>\n",
              "    <tr>\n",
              "      <td id=\"T_a7796_row8_col0\" class=\"data row8 col0\" >5174-ITUMV</td>\n",
              "      <td id=\"T_a7796_row8_col1\" class=\"data row8 col1\" >Stayed</td>\n",
              "      <td id=\"T_a7796_row8_col2\" class=\"data row8 col2\" >nan</td>\n",
              "    </tr>\n",
              "    <tr>\n",
              "      <td id=\"T_a7796_row9_col0\" class=\"data row9 col0\" >5609-CEBID</td>\n",
              "      <td id=\"T_a7796_row9_col1\" class=\"data row9 col1\" >Churned</td>\n",
              "      <td id=\"T_a7796_row9_col2\" class=\"data row9 col2\" >Competitor had better devices</td>\n",
              "    </tr>\n",
              "    <tr>\n",
              "      <td id=\"T_a7796_row10_col0\" class=\"data row10 col0\" >...</td>\n",
              "      <td id=\"T_a7796_row10_col1\" class=\"data row10 col1\" >...</td>\n",
              "      <td id=\"T_a7796_row10_col2\" class=\"data row10 col2\" >...</td>\n",
              "    </tr>\n",
              "  </tbody>\n",
              "</table>\n"
            ],
            "text/plain": [
              "<pandas.io.formats.style.Styler at 0x174a05090>"
            ]
          },
          "metadata": {},
          "output_type": "display_data"
        }
      ],
      "source": [
        "Select customer_id, status, churn_reason from anjel-project.Telco_Churn.Customer_Status"
      ]
    },
    {
      "cell_type": "markdown",
      "metadata": {
        "id": "AyMHvwxU6wT1"
      },
      "source": [
        "<a id=\"A.3.\"></a>\n",
        "## <b>A.3. <span style='color:#0B2F9F'>Mengubah Penyebutan Nama Kolom pada Satu Tabel</span></b>\n",
        "\n",
        "Terkadang perlu untuk memberi nama lain pada saat data ditampilkan untuk mempermudah pembacaan atau tujuan lainnya. Untuk mengubah nama sementara yang diberikan kepada kolom atau tabel dalam query bisa menggunakan perintah `AS` atau biasa disebut Alias. Untuk dapat mengubah nama kolom sementara pada sebuah tabel, eksekusi perintah\n",
        "\n",
        "<img src=\"https://raw.githubusercontent.com/bachtiyarma/Material/main/Image/Materi-SQL/SQL-Select3.png\" width=\"50%\">"
      ]
    },
    {
      "cell_type": "markdown",
      "metadata": {
        "id": "8QwTTwY86wT1"
      },
      "source": [
        "#### <i><b><span style='color:#55679C'>Quest</span> : Tampilkan kolom customer_id, cltv dan status pada tabel customer_status, namun ubah sementara nama kolom cltv menjadi customer_lifetime_value agar lebih mudah diinterpretasikan!</b></i>"
      ]
    },
    {
      "cell_type": "code",
      "execution_count": null,
      "metadata": {
        "id": "hKNO0ndu6wT1",
        "outputId": "2570e394-c15b-4d60-9e88-b78ee3ce2a55"
      },
      "outputs": [
        {
          "data": {
            "text/html": [
              "<style type=\"text/css\">\n",
              "</style>\n",
              "<table id=\"T_bbb2d\">\n",
              "  <thead>\n",
              "    <tr>\n",
              "      <th id=\"T_bbb2d_level0_col0\" class=\"col_heading level0 col0\" >customer_id</th>\n",
              "      <th id=\"T_bbb2d_level0_col1\" class=\"col_heading level0 col1\" >customer_lifetime_value</th>\n",
              "      <th id=\"T_bbb2d_level0_col2\" class=\"col_heading level0 col2\" >status</th>\n",
              "    </tr>\n",
              "  </thead>\n",
              "  <tbody>\n",
              "    <tr>\n",
              "      <td id=\"T_bbb2d_row0_col0\" class=\"data row0 col0\" >2737-WFVYW</td>\n",
              "      <td id=\"T_bbb2d_row0_col1\" class=\"data row0 col1\" >4566</td>\n",
              "      <td id=\"T_bbb2d_row0_col2\" class=\"data row0 col2\" >Churned</td>\n",
              "    </tr>\n",
              "    <tr>\n",
              "      <td id=\"T_bbb2d_row1_col0\" class=\"data row1 col0\" >5158-RIVOP</td>\n",
              "      <td id=\"T_bbb2d_row1_col1\" class=\"data row1 col1\" >5359</td>\n",
              "      <td id=\"T_bbb2d_row1_col2\" class=\"data row1 col2\" >Stayed</td>\n",
              "    </tr>\n",
              "    <tr>\n",
              "      <td id=\"T_bbb2d_row2_col0\" class=\"data row2 col0\" >9095-HFAFX</td>\n",
              "      <td id=\"T_bbb2d_row2_col1\" class=\"data row2 col1\" >3718</td>\n",
              "      <td id=\"T_bbb2d_row2_col2\" class=\"data row2 col2\" >Churned</td>\n",
              "    </tr>\n",
              "    <tr>\n",
              "      <td id=\"T_bbb2d_row3_col0\" class=\"data row3 col0\" >3580-REOAC</td>\n",
              "      <td id=\"T_bbb2d_row3_col1\" class=\"data row3 col1\" >4061</td>\n",
              "      <td id=\"T_bbb2d_row3_col2\" class=\"data row3 col2\" >Churned</td>\n",
              "    </tr>\n",
              "    <tr>\n",
              "      <td id=\"T_bbb2d_row4_col0\" class=\"data row4 col0\" >9705-IOVQQ</td>\n",
              "      <td id=\"T_bbb2d_row4_col1\" class=\"data row4 col1\" >5177</td>\n",
              "      <td id=\"T_bbb2d_row4_col2\" class=\"data row4 col2\" >Stayed</td>\n",
              "    </tr>\n",
              "    <tr>\n",
              "      <td id=\"T_bbb2d_row5_col0\" class=\"data row5 col0\" >7636-OWBPG</td>\n",
              "      <td id=\"T_bbb2d_row5_col1\" class=\"data row5 col1\" >3606</td>\n",
              "      <td id=\"T_bbb2d_row5_col2\" class=\"data row5 col2\" >Stayed</td>\n",
              "    </tr>\n",
              "    <tr>\n",
              "      <td id=\"T_bbb2d_row6_col0\" class=\"data row6 col0\" >3235-ETOOB</td>\n",
              "      <td id=\"T_bbb2d_row6_col1\" class=\"data row6 col1\" >3683</td>\n",
              "      <td id=\"T_bbb2d_row6_col2\" class=\"data row6 col2\" >Churned</td>\n",
              "    </tr>\n",
              "    <tr>\n",
              "      <td id=\"T_bbb2d_row7_col0\" class=\"data row7 col0\" >7176-WRTNX</td>\n",
              "      <td id=\"T_bbb2d_row7_col1\" class=\"data row7 col1\" >4511</td>\n",
              "      <td id=\"T_bbb2d_row7_col2\" class=\"data row7 col2\" >Stayed</td>\n",
              "    </tr>\n",
              "    <tr>\n",
              "      <td id=\"T_bbb2d_row8_col0\" class=\"data row8 col0\" >7968-QUXNS</td>\n",
              "      <td id=\"T_bbb2d_row8_col1\" class=\"data row8 col1\" >5920</td>\n",
              "      <td id=\"T_bbb2d_row8_col2\" class=\"data row8 col2\" >Stayed</td>\n",
              "    </tr>\n",
              "    <tr>\n",
              "      <td id=\"T_bbb2d_row9_col0\" class=\"data row9 col0\" >2904-GGUAZ</td>\n",
              "      <td id=\"T_bbb2d_row9_col1\" class=\"data row9 col1\" >5515</td>\n",
              "      <td id=\"T_bbb2d_row9_col2\" class=\"data row9 col2\" >Stayed</td>\n",
              "    </tr>\n",
              "    <tr>\n",
              "      <td id=\"T_bbb2d_row10_col0\" class=\"data row10 col0\" >...</td>\n",
              "      <td id=\"T_bbb2d_row10_col1\" class=\"data row10 col1\" >...</td>\n",
              "      <td id=\"T_bbb2d_row10_col2\" class=\"data row10 col2\" >...</td>\n",
              "    </tr>\n",
              "  </tbody>\n",
              "</table>\n"
            ],
            "text/plain": [
              "<pandas.io.formats.style.Styler at 0x17869af90>"
            ]
          },
          "metadata": {},
          "output_type": "display_data"
        }
      ],
      "source": [
        "Select customer_id, cltv as customer_lifetime_value, status from anjel-project.Telco_Churn.Customer_Status"
      ]
    },
    {
      "cell_type": "markdown",
      "metadata": {
        "id": "ujSkmJIC6wT2"
      },
      "source": [
        "<a id=\"B\"></a>\n",
        "# <b>B. <span style='color:#E1B12D'><code>DISTINCT</code></span></b>\n",
        "\n",
        "Perintah `DISTINCT` dalam SQL digunakan untuk menghapus duplikasi dalam hasil query. Dengan `DISTINCT`, dapat dipastikan bahwa setiap baris dalam hasil query unik dan tidak ada baris yang sama. Untuk menggunakan perintah ini haruslah diletakkan setelah perintah `SELECT`.\n",
        "\n",
        "<img src=\"https://raw.githubusercontent.com/bachtiyarma/Material/main/Image/Materi-SQL/SQL-Distinct.png\" width=\"50%\">\n",
        "\n",
        "docs : <a href=\"https://dev.mysql.com/doc/refman/8.4/en/distinct-optimization.html\"><i>https://dev.mysql.com/doc/refman/8.4/en/distinct-optimization.html</a></i>"
      ]
    },
    {
      "cell_type": "markdown",
      "metadata": {
        "id": "p5m5S96X6wT2"
      },
      "source": [
        "<a id=\"B.1.\"></a>\n",
        "## <b>B.1. <span style='color:#0B2F9F'>Nilai Unik pada Satu Kolom Tertentu</span></b>"
      ]
    },
    {
      "cell_type": "markdown",
      "metadata": {
        "id": "Y4mzeJPR6wT2"
      },
      "source": [
        "#### <i><b><span style='color:#55679C'>Quest</span> : Tampilkan apa saja jenis status pada tabel customer_status!</b></i>"
      ]
    },
    {
      "cell_type": "code",
      "execution_count": null,
      "metadata": {
        "id": "hiN0v4iF6wT2",
        "outputId": "0ea31711-cec4-48f7-a113-f0cc74c17ed4"
      },
      "outputs": [
        {
          "data": {
            "text/html": [
              "<style type=\"text/css\">\n",
              "</style>\n",
              "<table id=\"T_af2b0\">\n",
              "  <thead>\n",
              "    <tr>\n",
              "      <th id=\"T_af2b0_level0_col0\" class=\"col_heading level0 col0\" >status</th>\n",
              "    </tr>\n",
              "  </thead>\n",
              "  <tbody>\n",
              "    <tr>\n",
              "      <td id=\"T_af2b0_row0_col0\" class=\"data row0 col0\" >Churned</td>\n",
              "    </tr>\n",
              "    <tr>\n",
              "      <td id=\"T_af2b0_row1_col0\" class=\"data row1 col0\" >Stayed</td>\n",
              "    </tr>\n",
              "    <tr>\n",
              "      <td id=\"T_af2b0_row2_col0\" class=\"data row2 col0\" >Joined</td>\n",
              "    </tr>\n",
              "  </tbody>\n",
              "</table>\n"
            ],
            "text/plain": [
              "<pandas.io.formats.style.Styler at 0x1543b1f50>"
            ]
          },
          "metadata": {},
          "output_type": "display_data"
        }
      ],
      "source": [
        "Select Distinct status from anjel-project.Telco_Churn.Customer_Status"
      ]
    },
    {
      "cell_type": "markdown",
      "metadata": {
        "id": "5ODQK-5z6wT2"
      },
      "source": [
        "<a id=\"B.2.\"></a>\n",
        "## <b>B.2. <span style='color:#0B2F9F'>Nilai Unik pada Lebih dari Satu Kolom</span></b>\n",
        "\n",
        "Perintah `DISTINCT` dapat diterapkan dilebih dari satu kolom. Jika diterapkan pada lebih dari satu kolom maka akan menghasilkan kombinasi unik antar baris pada kolom yang terpilih"
      ]
    },
    {
      "cell_type": "markdown",
      "metadata": {
        "id": "e4r6uA3d6wT2"
      },
      "source": [
        "#### <i><b><span style='color:#55679C'>Quest</span> : Tampilkan apa saja jenis churn_category dan churn_reason pada tabel customer_status!</b></i>"
      ]
    },
    {
      "cell_type": "code",
      "execution_count": null,
      "metadata": {
        "id": "V-rqOcL96wT3",
        "outputId": "6c7238d5-2416-45f1-fa43-6f1b670e6e1a"
      },
      "outputs": [
        {
          "data": {
            "text/html": [
              "<style type=\"text/css\">\n",
              "</style>\n",
              "<table id=\"T_fc9ab\">\n",
              "  <thead>\n",
              "    <tr>\n",
              "      <th id=\"T_fc9ab_level0_col0\" class=\"col_heading level0 col0\" >churn_category</th>\n",
              "      <th id=\"T_fc9ab_level0_col1\" class=\"col_heading level0 col1\" >churn_reason</th>\n",
              "    </tr>\n",
              "  </thead>\n",
              "  <tbody>\n",
              "    <tr>\n",
              "      <td id=\"T_fc9ab_row0_col0\" class=\"data row0 col0\" >Competitor</td>\n",
              "      <td id=\"T_fc9ab_row0_col1\" class=\"data row0 col1\" >Competitor offered more data</td>\n",
              "    </tr>\n",
              "    <tr>\n",
              "      <td id=\"T_fc9ab_row1_col0\" class=\"data row1 col0\" >Competitor</td>\n",
              "      <td id=\"T_fc9ab_row1_col1\" class=\"data row1 col1\" >Competitor made better offer</td>\n",
              "    </tr>\n",
              "    <tr>\n",
              "      <td id=\"T_fc9ab_row2_col0\" class=\"data row2 col0\" >Dissatisfaction</td>\n",
              "      <td id=\"T_fc9ab_row2_col1\" class=\"data row2 col1\" >Limited range of services</td>\n",
              "    </tr>\n",
              "    <tr>\n",
              "      <td id=\"T_fc9ab_row3_col0\" class=\"data row3 col0\" >Price</td>\n",
              "      <td id=\"T_fc9ab_row3_col1\" class=\"data row3 col1\" >Extra data charges</td>\n",
              "    </tr>\n",
              "    <tr>\n",
              "      <td id=\"T_fc9ab_row4_col0\" class=\"data row4 col0\" >Competitor</td>\n",
              "      <td id=\"T_fc9ab_row4_col1\" class=\"data row4 col1\" >Competitor had better devices</td>\n",
              "    </tr>\n",
              "    <tr>\n",
              "      <td id=\"T_fc9ab_row5_col0\" class=\"data row5 col0\" >Other</td>\n",
              "      <td id=\"T_fc9ab_row5_col1\" class=\"data row5 col1\" >Don't know</td>\n",
              "    </tr>\n",
              "    <tr>\n",
              "      <td id=\"T_fc9ab_row6_col0\" class=\"data row6 col0\" >Dissatisfaction</td>\n",
              "      <td id=\"T_fc9ab_row6_col1\" class=\"data row6 col1\" >Service dissatisfaction</td>\n",
              "    </tr>\n",
              "    <tr>\n",
              "      <td id=\"T_fc9ab_row7_col0\" class=\"data row7 col0\" >Price</td>\n",
              "      <td id=\"T_fc9ab_row7_col1\" class=\"data row7 col1\" >Lack of affordable download/upload speed</td>\n",
              "    </tr>\n",
              "    <tr>\n",
              "      <td id=\"T_fc9ab_row8_col0\" class=\"data row8 col0\" >Dissatisfaction</td>\n",
              "      <td id=\"T_fc9ab_row8_col1\" class=\"data row8 col1\" >Product dissatisfaction</td>\n",
              "    </tr>\n",
              "    <tr>\n",
              "      <td id=\"T_fc9ab_row9_col0\" class=\"data row9 col0\" >Price</td>\n",
              "      <td id=\"T_fc9ab_row9_col1\" class=\"data row9 col1\" >Long distance charges</td>\n",
              "    </tr>\n",
              "    <tr>\n",
              "      <td id=\"T_fc9ab_row10_col0\" class=\"data row10 col0\" >Dissatisfaction</td>\n",
              "      <td id=\"T_fc9ab_row10_col1\" class=\"data row10 col1\" >Poor expertise of online support</td>\n",
              "    </tr>\n",
              "    <tr>\n",
              "      <td id=\"T_fc9ab_row11_col0\" class=\"data row11 col0\" >Attitude</td>\n",
              "      <td id=\"T_fc9ab_row11_col1\" class=\"data row11 col1\" >Attitude of support person</td>\n",
              "    </tr>\n",
              "    <tr>\n",
              "      <td id=\"T_fc9ab_row12_col0\" class=\"data row12 col0\" >Dissatisfaction</td>\n",
              "      <td id=\"T_fc9ab_row12_col1\" class=\"data row12 col1\" >Network reliability</td>\n",
              "    </tr>\n",
              "    <tr>\n",
              "      <td id=\"T_fc9ab_row13_col0\" class=\"data row13 col0\" >Competitor</td>\n",
              "      <td id=\"T_fc9ab_row13_col1\" class=\"data row13 col1\" >Competitor offered higher download speeds</td>\n",
              "    </tr>\n",
              "    <tr>\n",
              "      <td id=\"T_fc9ab_row14_col0\" class=\"data row14 col0\" >Other</td>\n",
              "      <td id=\"T_fc9ab_row14_col1\" class=\"data row14 col1\" >Poor expertise of online support</td>\n",
              "    </tr>\n",
              "    <tr>\n",
              "      <td id=\"T_fc9ab_row15_col0\" class=\"data row15 col0\" >Other</td>\n",
              "      <td id=\"T_fc9ab_row15_col1\" class=\"data row15 col1\" >Moved</td>\n",
              "    </tr>\n",
              "    <tr>\n",
              "      <td id=\"T_fc9ab_row16_col0\" class=\"data row16 col0\" >Price</td>\n",
              "      <td id=\"T_fc9ab_row16_col1\" class=\"data row16 col1\" >Price too high</td>\n",
              "    </tr>\n",
              "    <tr>\n",
              "      <td id=\"T_fc9ab_row17_col0\" class=\"data row17 col0\" >Attitude</td>\n",
              "      <td id=\"T_fc9ab_row17_col1\" class=\"data row17 col1\" >Attitude of service provider</td>\n",
              "    </tr>\n",
              "    <tr>\n",
              "      <td id=\"T_fc9ab_row18_col0\" class=\"data row18 col0\" >Dissatisfaction</td>\n",
              "      <td id=\"T_fc9ab_row18_col1\" class=\"data row18 col1\" >Poor expertise of phone support</td>\n",
              "    </tr>\n",
              "    <tr>\n",
              "      <td id=\"T_fc9ab_row19_col0\" class=\"data row19 col0\" >Other</td>\n",
              "      <td id=\"T_fc9ab_row19_col1\" class=\"data row19 col1\" >Deceased</td>\n",
              "    </tr>\n",
              "    <tr>\n",
              "      <td id=\"T_fc9ab_row20_col0\" class=\"data row20 col0\" >nan</td>\n",
              "      <td id=\"T_fc9ab_row20_col1\" class=\"data row20 col1\" >nan</td>\n",
              "    </tr>\n",
              "    <tr>\n",
              "      <td id=\"T_fc9ab_row21_col0\" class=\"data row21 col0\" >Dissatisfaction</td>\n",
              "      <td id=\"T_fc9ab_row21_col1\" class=\"data row21 col1\" >Lack of self-service on Website</td>\n",
              "    </tr>\n",
              "  </tbody>\n",
              "</table>\n"
            ],
            "text/plain": [
              "<pandas.io.formats.style.Styler at 0x17492b1d0>"
            ]
          },
          "metadata": {},
          "output_type": "display_data"
        }
      ],
      "source": [
        "Select Distinct churn_category, churn_reason from anjel-project.Telco_Churn.Customer_Status"
      ]
    },
    {
      "cell_type": "markdown",
      "metadata": {
        "id": "ufi1IPpy6wT3"
      },
      "source": [
        "<a id=\"C\"></a>\n",
        "# <b>C. <span style='color:#E1B12D'><code>LIMIT</code></span></b>\n",
        "\n",
        "Tidak semua data ingin ditampilkan untuk proses <i>sampling</i>, sehingga perlu dikontrol dan melakukan pembatasan jumlah baris yang dikembalikan oleh sebuah query.\n",
        "Perintah `LIMIT <jumlah_data>` dalam SQL digunakan untuk membatasi data yang ingin ditampilkan. `LIMIT` diletakkan paling akhir dari sebuah query dengan perintah `SELECT`.\n",
        "\n",
        "<img src=\"https://raw.githubusercontent.com/bachtiyarma/Material/main/Image/Materi-SQL/SQL-Limit.png\" width=\"50%\">\n",
        "\n",
        "docs : <a href=\"https://dev.mysql.com/doc/refman/8.4/en/limit-optimization.html\"><i>https://dev.mysql.com/doc/refman/8.4/en/limit-optimization.html</a></i>"
      ]
    },
    {
      "cell_type": "markdown",
      "metadata": {
        "id": "ZMuyHBBZ6wT3"
      },
      "source": [
        "<a id=\"C.1.\"></a>\n",
        "## <b>C.1. <span style='color:#0B2F9F'>Membatasi Jumlah Baris (yang ditampilkan) di Semua Kolom pada Data</span></b>"
      ]
    },
    {
      "cell_type": "markdown",
      "metadata": {
        "id": "zIsB9ArP6wT3"
      },
      "source": [
        "#### <i><b><span style='color:#55679C'>Quest</span> : Tampilkan semua 5 data teratas pada tabel customer_status!</b></i>"
      ]
    },
    {
      "cell_type": "code",
      "execution_count": null,
      "metadata": {
        "id": "sTfUWS6k6wT3",
        "outputId": "4ea7a9aa-63dc-4819-e8b8-fda2e7a55da4"
      },
      "outputs": [
        {
          "data": {
            "text/html": [
              "<style type=\"text/css\">\n",
              "</style>\n",
              "<table id=\"T_0ef1f\">\n",
              "  <thead>\n",
              "    <tr>\n",
              "      <th id=\"T_0ef1f_level0_col0\" class=\"col_heading level0 col0\" >customer_id</th>\n",
              "      <th id=\"T_0ef1f_level0_col1\" class=\"col_heading level0 col1\" >satisfaction_score</th>\n",
              "      <th id=\"T_0ef1f_level0_col2\" class=\"col_heading level0 col2\" >status</th>\n",
              "      <th id=\"T_0ef1f_level0_col3\" class=\"col_heading level0 col3\" >churn_label</th>\n",
              "      <th id=\"T_0ef1f_level0_col4\" class=\"col_heading level0 col4\" >churn_score</th>\n",
              "      <th id=\"T_0ef1f_level0_col5\" class=\"col_heading level0 col5\" >cltv</th>\n",
              "      <th id=\"T_0ef1f_level0_col6\" class=\"col_heading level0 col6\" >churn_category</th>\n",
              "      <th id=\"T_0ef1f_level0_col7\" class=\"col_heading level0 col7\" >churn_reason</th>\n",
              "    </tr>\n",
              "  </thead>\n",
              "  <tbody>\n",
              "    <tr>\n",
              "      <td id=\"T_0ef1f_row0_col0\" class=\"data row0 col0\" >8779-QRDMV</td>\n",
              "      <td id=\"T_0ef1f_row0_col1\" class=\"data row0 col1\" >3</td>\n",
              "      <td id=\"T_0ef1f_row0_col2\" class=\"data row0 col2\" >Churned</td>\n",
              "      <td id=\"T_0ef1f_row0_col3\" class=\"data row0 col3\" >Yes</td>\n",
              "      <td id=\"T_0ef1f_row0_col4\" class=\"data row0 col4\" >91</td>\n",
              "      <td id=\"T_0ef1f_row0_col5\" class=\"data row0 col5\" >5433</td>\n",
              "      <td id=\"T_0ef1f_row0_col6\" class=\"data row0 col6\" >Competitor</td>\n",
              "      <td id=\"T_0ef1f_row0_col7\" class=\"data row0 col7\" >Competitor offered more data</td>\n",
              "    </tr>\n",
              "    <tr>\n",
              "      <td id=\"T_0ef1f_row1_col0\" class=\"data row1 col0\" >7495-OOKFY</td>\n",
              "      <td id=\"T_0ef1f_row1_col1\" class=\"data row1 col1\" >3</td>\n",
              "      <td id=\"T_0ef1f_row1_col2\" class=\"data row1 col2\" >Churned</td>\n",
              "      <td id=\"T_0ef1f_row1_col3\" class=\"data row1 col3\" >Yes</td>\n",
              "      <td id=\"T_0ef1f_row1_col4\" class=\"data row1 col4\" >69</td>\n",
              "      <td id=\"T_0ef1f_row1_col5\" class=\"data row1 col5\" >5302</td>\n",
              "      <td id=\"T_0ef1f_row1_col6\" class=\"data row1 col6\" >Competitor</td>\n",
              "      <td id=\"T_0ef1f_row1_col7\" class=\"data row1 col7\" >Competitor made better offer</td>\n",
              "    </tr>\n",
              "    <tr>\n",
              "      <td id=\"T_0ef1f_row2_col0\" class=\"data row2 col0\" >1658-BYGOY</td>\n",
              "      <td id=\"T_0ef1f_row2_col1\" class=\"data row2 col1\" >2</td>\n",
              "      <td id=\"T_0ef1f_row2_col2\" class=\"data row2 col2\" >Churned</td>\n",
              "      <td id=\"T_0ef1f_row2_col3\" class=\"data row2 col3\" >Yes</td>\n",
              "      <td id=\"T_0ef1f_row2_col4\" class=\"data row2 col4\" >81</td>\n",
              "      <td id=\"T_0ef1f_row2_col5\" class=\"data row2 col5\" >3179</td>\n",
              "      <td id=\"T_0ef1f_row2_col6\" class=\"data row2 col6\" >Competitor</td>\n",
              "      <td id=\"T_0ef1f_row2_col7\" class=\"data row2 col7\" >Competitor made better offer</td>\n",
              "    </tr>\n",
              "    <tr>\n",
              "      <td id=\"T_0ef1f_row3_col0\" class=\"data row3 col0\" >4598-XLKNJ</td>\n",
              "      <td id=\"T_0ef1f_row3_col1\" class=\"data row3 col1\" >2</td>\n",
              "      <td id=\"T_0ef1f_row3_col2\" class=\"data row3 col2\" >Churned</td>\n",
              "      <td id=\"T_0ef1f_row3_col3\" class=\"data row3 col3\" >Yes</td>\n",
              "      <td id=\"T_0ef1f_row3_col4\" class=\"data row3 col4\" >88</td>\n",
              "      <td id=\"T_0ef1f_row3_col5\" class=\"data row3 col5\" >5337</td>\n",
              "      <td id=\"T_0ef1f_row3_col6\" class=\"data row3 col6\" >Dissatisfaction</td>\n",
              "      <td id=\"T_0ef1f_row3_col7\" class=\"data row3 col7\" >Limited range of services</td>\n",
              "    </tr>\n",
              "    <tr>\n",
              "      <td id=\"T_0ef1f_row4_col0\" class=\"data row4 col0\" >4846-WHAFZ</td>\n",
              "      <td id=\"T_0ef1f_row4_col1\" class=\"data row4 col1\" >2</td>\n",
              "      <td id=\"T_0ef1f_row4_col2\" class=\"data row4 col2\" >Churned</td>\n",
              "      <td id=\"T_0ef1f_row4_col3\" class=\"data row4 col3\" >Yes</td>\n",
              "      <td id=\"T_0ef1f_row4_col4\" class=\"data row4 col4\" >67</td>\n",
              "      <td id=\"T_0ef1f_row4_col5\" class=\"data row4 col5\" >2793</td>\n",
              "      <td id=\"T_0ef1f_row4_col6\" class=\"data row4 col6\" >Price</td>\n",
              "      <td id=\"T_0ef1f_row4_col7\" class=\"data row4 col7\" >Extra data charges</td>\n",
              "    </tr>\n",
              "  </tbody>\n",
              "</table>\n"
            ],
            "text/plain": [
              "<pandas.io.formats.style.Styler at 0x1781a3790>"
            ]
          },
          "metadata": {},
          "output_type": "display_data"
        }
      ],
      "source": [
        "Select * from anjel-project.Telco_Churn.Customer_Status limit 5"
      ]
    },
    {
      "cell_type": "markdown",
      "metadata": {
        "id": "6P6JiAiA6wT3"
      },
      "source": [
        "<a id=\"C.2.\"></a>\n",
        "## <b>C.2. <span style='color:#0B2F9F'>Membatasi Jumlah Baris (yang ditampilkan) di Kolom Tertentu pada Data</span></b>"
      ]
    },
    {
      "cell_type": "markdown",
      "metadata": {
        "id": "6WWkqauq6wT3"
      },
      "source": [
        "#### <i><b><span style='color:#55679C'>Quest</span> : Tampilkan 10 data teratas untuk kolom customer_id, status dan churn_reason pada tabel customer_status!</b></i>"
      ]
    },
    {
      "cell_type": "code",
      "execution_count": null,
      "metadata": {
        "id": "FJH__0MB6wT3",
        "outputId": "3e6fe391-0556-45aa-df53-770db759d173"
      },
      "outputs": [
        {
          "data": {
            "text/html": [
              "<style type=\"text/css\">\n",
              "</style>\n",
              "<table id=\"T_13e72\">\n",
              "  <thead>\n",
              "    <tr>\n",
              "      <th id=\"T_13e72_level0_col0\" class=\"col_heading level0 col0\" >customer_id</th>\n",
              "      <th id=\"T_13e72_level0_col1\" class=\"col_heading level0 col1\" >status</th>\n",
              "      <th id=\"T_13e72_level0_col2\" class=\"col_heading level0 col2\" >churn_reason</th>\n",
              "    </tr>\n",
              "  </thead>\n",
              "  <tbody>\n",
              "    <tr>\n",
              "      <td id=\"T_13e72_row0_col0\" class=\"data row0 col0\" >8779-QRDMV</td>\n",
              "      <td id=\"T_13e72_row0_col1\" class=\"data row0 col1\" >Churned</td>\n",
              "      <td id=\"T_13e72_row0_col2\" class=\"data row0 col2\" >Competitor offered more data</td>\n",
              "    </tr>\n",
              "    <tr>\n",
              "      <td id=\"T_13e72_row1_col0\" class=\"data row1 col0\" >7495-OOKFY</td>\n",
              "      <td id=\"T_13e72_row1_col1\" class=\"data row1 col1\" >Churned</td>\n",
              "      <td id=\"T_13e72_row1_col2\" class=\"data row1 col2\" >Competitor made better offer</td>\n",
              "    </tr>\n",
              "    <tr>\n",
              "      <td id=\"T_13e72_row2_col0\" class=\"data row2 col0\" >1658-BYGOY</td>\n",
              "      <td id=\"T_13e72_row2_col1\" class=\"data row2 col1\" >Churned</td>\n",
              "      <td id=\"T_13e72_row2_col2\" class=\"data row2 col2\" >Competitor made better offer</td>\n",
              "    </tr>\n",
              "    <tr>\n",
              "      <td id=\"T_13e72_row3_col0\" class=\"data row3 col0\" >4598-XLKNJ</td>\n",
              "      <td id=\"T_13e72_row3_col1\" class=\"data row3 col1\" >Churned</td>\n",
              "      <td id=\"T_13e72_row3_col2\" class=\"data row3 col2\" >Limited range of services</td>\n",
              "    </tr>\n",
              "    <tr>\n",
              "      <td id=\"T_13e72_row4_col0\" class=\"data row4 col0\" >4846-WHAFZ</td>\n",
              "      <td id=\"T_13e72_row4_col1\" class=\"data row4 col1\" >Churned</td>\n",
              "      <td id=\"T_13e72_row4_col2\" class=\"data row4 col2\" >Extra data charges</td>\n",
              "    </tr>\n",
              "    <tr>\n",
              "      <td id=\"T_13e72_row5_col0\" class=\"data row5 col0\" >4412-YLTKF</td>\n",
              "      <td id=\"T_13e72_row5_col1\" class=\"data row5 col1\" >Churned</td>\n",
              "      <td id=\"T_13e72_row5_col2\" class=\"data row5 col2\" >Competitor had better devices</td>\n",
              "    </tr>\n",
              "    <tr>\n",
              "      <td id=\"T_13e72_row6_col0\" class=\"data row6 col0\" >0390-DCFDQ</td>\n",
              "      <td id=\"T_13e72_row6_col1\" class=\"data row6 col1\" >Churned</td>\n",
              "      <td id=\"T_13e72_row6_col2\" class=\"data row6 col2\" >Don't know</td>\n",
              "    </tr>\n",
              "    <tr>\n",
              "      <td id=\"T_13e72_row7_col0\" class=\"data row7 col0\" >3445-HXXGF</td>\n",
              "      <td id=\"T_13e72_row7_col1\" class=\"data row7 col1\" >Churned</td>\n",
              "      <td id=\"T_13e72_row7_col2\" class=\"data row7 col2\" >Service dissatisfaction</td>\n",
              "    </tr>\n",
              "    <tr>\n",
              "      <td id=\"T_13e72_row8_col0\" class=\"data row8 col0\" >2656-FMOKZ</td>\n",
              "      <td id=\"T_13e72_row8_col1\" class=\"data row8 col1\" >Churned</td>\n",
              "      <td id=\"T_13e72_row8_col2\" class=\"data row8 col2\" >Limited range of services</td>\n",
              "    </tr>\n",
              "    <tr>\n",
              "      <td id=\"T_13e72_row9_col0\" class=\"data row9 col0\" >2070-FNEXE</td>\n",
              "      <td id=\"T_13e72_row9_col1\" class=\"data row9 col1\" >Churned</td>\n",
              "      <td id=\"T_13e72_row9_col2\" class=\"data row9 col2\" >Lack of affordable download/upload speed</td>\n",
              "    </tr>\n",
              "  </tbody>\n",
              "</table>\n"
            ],
            "text/plain": [
              "<pandas.io.formats.style.Styler at 0x1748a6850>"
            ]
          },
          "metadata": {},
          "output_type": "display_data"
        }
      ],
      "source": [
        "Select customer_id, status, churn_reason from anjel-project.Telco_Churn.Customer_Status limit 10"
      ]
    },
    {
      "cell_type": "markdown",
      "metadata": {
        "id": "R-SNW7CX6wT4"
      },
      "source": [
        "#### <i><b><span style='color:#55679C'>Quest</span> : Tampilkan 3 data teratas untuk kolom customer_id, cltv dan status pada tabel customer_status, namun ubah sementara nama kolom cltv menjadi customer_lifetime_value agar lebih mudah diinterpretasikan!</b></i>"
      ]
    },
    {
      "cell_type": "code",
      "execution_count": null,
      "metadata": {
        "id": "p9HaBN5E6wT4",
        "outputId": "3681d186-251e-481c-e661-9be092c0ece5"
      },
      "outputs": [
        {
          "data": {
            "text/html": [
              "<style type=\"text/css\">\n",
              "</style>\n",
              "<table id=\"T_0c889\">\n",
              "  <thead>\n",
              "    <tr>\n",
              "      <th id=\"T_0c889_level0_col0\" class=\"col_heading level0 col0\" >customer_id</th>\n",
              "      <th id=\"T_0c889_level0_col1\" class=\"col_heading level0 col1\" >customer_lifetime_value</th>\n",
              "      <th id=\"T_0c889_level0_col2\" class=\"col_heading level0 col2\" >status</th>\n",
              "    </tr>\n",
              "  </thead>\n",
              "  <tbody>\n",
              "    <tr>\n",
              "      <td id=\"T_0c889_row0_col0\" class=\"data row0 col0\" >8779-QRDMV</td>\n",
              "      <td id=\"T_0c889_row0_col1\" class=\"data row0 col1\" >5433</td>\n",
              "      <td id=\"T_0c889_row0_col2\" class=\"data row0 col2\" >Churned</td>\n",
              "    </tr>\n",
              "    <tr>\n",
              "      <td id=\"T_0c889_row1_col0\" class=\"data row1 col0\" >7495-OOKFY</td>\n",
              "      <td id=\"T_0c889_row1_col1\" class=\"data row1 col1\" >5302</td>\n",
              "      <td id=\"T_0c889_row1_col2\" class=\"data row1 col2\" >Churned</td>\n",
              "    </tr>\n",
              "    <tr>\n",
              "      <td id=\"T_0c889_row2_col0\" class=\"data row2 col0\" >1658-BYGOY</td>\n",
              "      <td id=\"T_0c889_row2_col1\" class=\"data row2 col1\" >3179</td>\n",
              "      <td id=\"T_0c889_row2_col2\" class=\"data row2 col2\" >Churned</td>\n",
              "    </tr>\n",
              "  </tbody>\n",
              "</table>\n"
            ],
            "text/plain": [
              "<pandas.io.formats.style.Styler at 0x1748a43d0>"
            ]
          },
          "metadata": {},
          "output_type": "display_data"
        }
      ],
      "source": [
        "Select customer_id, cltv as customer_lifetime_value, status from anjel-project.Telco_Churn.Customer_Status limit 3"
      ]
    },
    {
      "cell_type": "markdown",
      "metadata": {
        "id": "0IrqqueI6wT4"
      },
      "source": [
        "<a id=\"D\"></a>\n",
        "# <b>D. <span style='color:#E1B12D'><code>ORDER BY</code></span></b>\n",
        "\n",
        "Perintah lain yang tak kalah penting yang membantu dalam menganalisis data untuk melihat data dalam urutan yang diinginkan adalah perintah `ORDER BY`. Perintah `ORDER BY` dalam SQL digunakan untuk mengurutkan hasil query berdasarkan satu atau lebih kolom. Cara pengurutan data dibagi menjadi dua cara yakni <b>Ascending</b> dan <b>Descending</b>\n",
        "<ul>\n",
        "    <li><b>Ascending</b> : Pengurutan secara naik (dari kecil ke besar) atau A-Z</li>\n",
        "    <li><b>Descending</b> : Pengurutan secara turun (dari besar ke kecil) atau Z-A</li>\n",
        "</ul>\n",
        "\n",
        "Untuk dapat menampilkan isi data secara terurut pada kolom tertentu pada sebuah tabel, eksekusi perintah\n",
        "\n",
        "\n",
        "<i>docs : <a href=\"https://dev.mysql.com/doc/refman/8.4/en/sorting-rows.html\">https://dev.mysql.com/doc/refman/8.4/en/sorting-rows.html</a></i>"
      ]
    },
    {
      "cell_type": "markdown",
      "metadata": {
        "id": "7OYXEpVB6wT4"
      },
      "source": [
        "<a id=\"D.1.\"></a>\n",
        "## <b>D.1. <span style='color:#0B2F9F'>Mengurutkan secara <i>Ascending</i></span></b>\n",
        "\n",
        "<img src=\"https://raw.githubusercontent.com/bachtiyarma/Material/main/Image/Materi-SQL/SQL-OrderByASC.png\" width=\"50%\">"
      ]
    },
    {
      "cell_type": "markdown",
      "metadata": {
        "id": "7zdH4Jiv6wT4"
      },
      "source": [
        "#### <i><b><span style='color:#55679C'>Quest</span> : Tampilkan semua data pada tabel customer_status namun urutkan berdasarkan kolom customer_id secara ascending!</b></i>"
      ]
    },
    {
      "cell_type": "code",
      "execution_count": null,
      "metadata": {
        "id": "cn0fLorp6wT4",
        "outputId": "8076f976-e537-4e56-8b37-3b95e8c0e6bf"
      },
      "outputs": [
        {
          "data": {
            "text/html": [
              "<style type=\"text/css\">\n",
              "</style>\n",
              "<table id=\"T_404bb\">\n",
              "  <thead>\n",
              "    <tr>\n",
              "      <th id=\"T_404bb_level0_col0\" class=\"col_heading level0 col0\" >customer_id</th>\n",
              "      <th id=\"T_404bb_level0_col1\" class=\"col_heading level0 col1\" >satisfaction_score</th>\n",
              "      <th id=\"T_404bb_level0_col2\" class=\"col_heading level0 col2\" >status</th>\n",
              "      <th id=\"T_404bb_level0_col3\" class=\"col_heading level0 col3\" >churn_label</th>\n",
              "      <th id=\"T_404bb_level0_col4\" class=\"col_heading level0 col4\" >churn_score</th>\n",
              "      <th id=\"T_404bb_level0_col5\" class=\"col_heading level0 col5\" >cltv</th>\n",
              "      <th id=\"T_404bb_level0_col6\" class=\"col_heading level0 col6\" >churn_category</th>\n",
              "      <th id=\"T_404bb_level0_col7\" class=\"col_heading level0 col7\" >churn_reason</th>\n",
              "    </tr>\n",
              "  </thead>\n",
              "  <tbody>\n",
              "    <tr>\n",
              "      <td id=\"T_404bb_row0_col0\" class=\"data row0 col0\" >0002-ORFBO</td>\n",
              "      <td id=\"T_404bb_row0_col1\" class=\"data row0 col1\" >3</td>\n",
              "      <td id=\"T_404bb_row0_col2\" class=\"data row0 col2\" >Stayed</td>\n",
              "      <td id=\"T_404bb_row0_col3\" class=\"data row0 col3\" >No</td>\n",
              "      <td id=\"T_404bb_row0_col4\" class=\"data row0 col4\" >65</td>\n",
              "      <td id=\"T_404bb_row0_col5\" class=\"data row0 col5\" >2205</td>\n",
              "      <td id=\"T_404bb_row0_col6\" class=\"data row0 col6\" >nan</td>\n",
              "      <td id=\"T_404bb_row0_col7\" class=\"data row0 col7\" >nan</td>\n",
              "    </tr>\n",
              "    <tr>\n",
              "      <td id=\"T_404bb_row1_col0\" class=\"data row1 col0\" >0003-MKNFE</td>\n",
              "      <td id=\"T_404bb_row1_col1\" class=\"data row1 col1\" >5</td>\n",
              "      <td id=\"T_404bb_row1_col2\" class=\"data row1 col2\" >Stayed</td>\n",
              "      <td id=\"T_404bb_row1_col3\" class=\"data row1 col3\" >No</td>\n",
              "      <td id=\"T_404bb_row1_col4\" class=\"data row1 col4\" >66</td>\n",
              "      <td id=\"T_404bb_row1_col5\" class=\"data row1 col5\" >5414</td>\n",
              "      <td id=\"T_404bb_row1_col6\" class=\"data row1 col6\" >nan</td>\n",
              "      <td id=\"T_404bb_row1_col7\" class=\"data row1 col7\" >nan</td>\n",
              "    </tr>\n",
              "    <tr>\n",
              "      <td id=\"T_404bb_row2_col0\" class=\"data row2 col0\" >0004-TLHLJ</td>\n",
              "      <td id=\"T_404bb_row2_col1\" class=\"data row2 col1\" >1</td>\n",
              "      <td id=\"T_404bb_row2_col2\" class=\"data row2 col2\" >Churned</td>\n",
              "      <td id=\"T_404bb_row2_col3\" class=\"data row2 col3\" >Yes</td>\n",
              "      <td id=\"T_404bb_row2_col4\" class=\"data row2 col4\" >71</td>\n",
              "      <td id=\"T_404bb_row2_col5\" class=\"data row2 col5\" >4479</td>\n",
              "      <td id=\"T_404bb_row2_col6\" class=\"data row2 col6\" >Competitor</td>\n",
              "      <td id=\"T_404bb_row2_col7\" class=\"data row2 col7\" >Competitor had better devices</td>\n",
              "    </tr>\n",
              "    <tr>\n",
              "      <td id=\"T_404bb_row3_col0\" class=\"data row3 col0\" >0011-IGKFF</td>\n",
              "      <td id=\"T_404bb_row3_col1\" class=\"data row3 col1\" >1</td>\n",
              "      <td id=\"T_404bb_row3_col2\" class=\"data row3 col2\" >Churned</td>\n",
              "      <td id=\"T_404bb_row3_col3\" class=\"data row3 col3\" >Yes</td>\n",
              "      <td id=\"T_404bb_row3_col4\" class=\"data row3 col4\" >91</td>\n",
              "      <td id=\"T_404bb_row3_col5\" class=\"data row3 col5\" >3714</td>\n",
              "      <td id=\"T_404bb_row3_col6\" class=\"data row3 col6\" >Dissatisfaction</td>\n",
              "      <td id=\"T_404bb_row3_col7\" class=\"data row3 col7\" >Product dissatisfaction</td>\n",
              "    </tr>\n",
              "    <tr>\n",
              "      <td id=\"T_404bb_row4_col0\" class=\"data row4 col0\" >0013-EXCHZ</td>\n",
              "      <td id=\"T_404bb_row4_col1\" class=\"data row4 col1\" >1</td>\n",
              "      <td id=\"T_404bb_row4_col2\" class=\"data row4 col2\" >Churned</td>\n",
              "      <td id=\"T_404bb_row4_col3\" class=\"data row4 col3\" >Yes</td>\n",
              "      <td id=\"T_404bb_row4_col4\" class=\"data row4 col4\" >68</td>\n",
              "      <td id=\"T_404bb_row4_col5\" class=\"data row4 col5\" >3464</td>\n",
              "      <td id=\"T_404bb_row4_col6\" class=\"data row4 col6\" >Dissatisfaction</td>\n",
              "      <td id=\"T_404bb_row4_col7\" class=\"data row4 col7\" >Network reliability</td>\n",
              "    </tr>\n",
              "    <tr>\n",
              "      <td id=\"T_404bb_row5_col0\" class=\"data row5 col0\" >0013-MHZWF</td>\n",
              "      <td id=\"T_404bb_row5_col1\" class=\"data row5 col1\" >3</td>\n",
              "      <td id=\"T_404bb_row5_col2\" class=\"data row5 col2\" >Stayed</td>\n",
              "      <td id=\"T_404bb_row5_col3\" class=\"data row5 col3\" >No</td>\n",
              "      <td id=\"T_404bb_row5_col4\" class=\"data row5 col4\" >55</td>\n",
              "      <td id=\"T_404bb_row5_col5\" class=\"data row5 col5\" >5108</td>\n",
              "      <td id=\"T_404bb_row5_col6\" class=\"data row5 col6\" >nan</td>\n",
              "      <td id=\"T_404bb_row5_col7\" class=\"data row5 col7\" >nan</td>\n",
              "    </tr>\n",
              "    <tr>\n",
              "      <td id=\"T_404bb_row6_col0\" class=\"data row6 col0\" >0013-SMEOE</td>\n",
              "      <td id=\"T_404bb_row6_col1\" class=\"data row6 col1\" >3</td>\n",
              "      <td id=\"T_404bb_row6_col2\" class=\"data row6 col2\" >Stayed</td>\n",
              "      <td id=\"T_404bb_row6_col3\" class=\"data row6 col3\" >No</td>\n",
              "      <td id=\"T_404bb_row6_col4\" class=\"data row6 col4\" >26</td>\n",
              "      <td id=\"T_404bb_row6_col5\" class=\"data row6 col5\" >5011</td>\n",
              "      <td id=\"T_404bb_row6_col6\" class=\"data row6 col6\" >nan</td>\n",
              "      <td id=\"T_404bb_row6_col7\" class=\"data row6 col7\" >nan</td>\n",
              "    </tr>\n",
              "    <tr>\n",
              "      <td id=\"T_404bb_row7_col0\" class=\"data row7 col0\" >0014-BMAQU</td>\n",
              "      <td id=\"T_404bb_row7_col1\" class=\"data row7 col1\" >4</td>\n",
              "      <td id=\"T_404bb_row7_col2\" class=\"data row7 col2\" >Stayed</td>\n",
              "      <td id=\"T_404bb_row7_col3\" class=\"data row7 col3\" >No</td>\n",
              "      <td id=\"T_404bb_row7_col4\" class=\"data row7 col4\" >49</td>\n",
              "      <td id=\"T_404bb_row7_col5\" class=\"data row7 col5\" >4604</td>\n",
              "      <td id=\"T_404bb_row7_col6\" class=\"data row7 col6\" >nan</td>\n",
              "      <td id=\"T_404bb_row7_col7\" class=\"data row7 col7\" >nan</td>\n",
              "    </tr>\n",
              "    <tr>\n",
              "      <td id=\"T_404bb_row8_col0\" class=\"data row8 col0\" >0015-UOCOJ</td>\n",
              "      <td id=\"T_404bb_row8_col1\" class=\"data row8 col1\" >3</td>\n",
              "      <td id=\"T_404bb_row8_col2\" class=\"data row8 col2\" >Stayed</td>\n",
              "      <td id=\"T_404bb_row8_col3\" class=\"data row8 col3\" >No</td>\n",
              "      <td id=\"T_404bb_row8_col4\" class=\"data row8 col4\" >34</td>\n",
              "      <td id=\"T_404bb_row8_col5\" class=\"data row8 col5\" >5525</td>\n",
              "      <td id=\"T_404bb_row8_col6\" class=\"data row8 col6\" >nan</td>\n",
              "      <td id=\"T_404bb_row8_col7\" class=\"data row8 col7\" >nan</td>\n",
              "    </tr>\n",
              "    <tr>\n",
              "      <td id=\"T_404bb_row9_col0\" class=\"data row9 col0\" >0016-QLJIS</td>\n",
              "      <td id=\"T_404bb_row9_col1\" class=\"data row9 col1\" >3</td>\n",
              "      <td id=\"T_404bb_row9_col2\" class=\"data row9 col2\" >Stayed</td>\n",
              "      <td id=\"T_404bb_row9_col3\" class=\"data row9 col3\" >No</td>\n",
              "      <td id=\"T_404bb_row9_col4\" class=\"data row9 col4\" >25</td>\n",
              "      <td id=\"T_404bb_row9_col5\" class=\"data row9 col5\" >5509</td>\n",
              "      <td id=\"T_404bb_row9_col6\" class=\"data row9 col6\" >nan</td>\n",
              "      <td id=\"T_404bb_row9_col7\" class=\"data row9 col7\" >nan</td>\n",
              "    </tr>\n",
              "    <tr>\n",
              "      <td id=\"T_404bb_row10_col0\" class=\"data row10 col0\" >...</td>\n",
              "      <td id=\"T_404bb_row10_col1\" class=\"data row10 col1\" >...</td>\n",
              "      <td id=\"T_404bb_row10_col2\" class=\"data row10 col2\" >...</td>\n",
              "      <td id=\"T_404bb_row10_col3\" class=\"data row10 col3\" >...</td>\n",
              "      <td id=\"T_404bb_row10_col4\" class=\"data row10 col4\" >...</td>\n",
              "      <td id=\"T_404bb_row10_col5\" class=\"data row10 col5\" >...</td>\n",
              "      <td id=\"T_404bb_row10_col6\" class=\"data row10 col6\" >...</td>\n",
              "      <td id=\"T_404bb_row10_col7\" class=\"data row10 col7\" >...</td>\n",
              "    </tr>\n",
              "  </tbody>\n",
              "</table>\n"
            ],
            "text/plain": [
              "<pandas.io.formats.style.Styler at 0x154142390>"
            ]
          },
          "metadata": {},
          "output_type": "display_data"
        }
      ],
      "source": [
        "Select * from anjel-project.Telco_Churn.Customer_Status Order by customer_id asc"
      ]
    },
    {
      "cell_type": "markdown",
      "metadata": {
        "id": "5fjs8RLL6wT4"
      },
      "source": [
        "<a id=\"D.2.\"></a>\n",
        "## <b>D.2. <span style='color:#0B2F9F'>Mengurutkan secara <i>Descending</i></span></b>\n",
        "\n",
        "<img src=\"https://raw.githubusercontent.com/bachtiyarma/Material/main/Image/Materi-SQL/SQL-OrderByDESC.png\" width=\"50%\">"
      ]
    },
    {
      "cell_type": "markdown",
      "metadata": {
        "id": "c3KwV-nv6wT4"
      },
      "source": [
        "#### <i><b><span style='color:#55679C'>Quest</span> : Tampilkan semua data pada tabel customer_status namun urutkan berdasarkan kolom cltv secara descending!</b></i>"
      ]
    },
    {
      "cell_type": "code",
      "execution_count": null,
      "metadata": {
        "id": "s3tUkX176wT5",
        "outputId": "83925b31-b51b-4043-a2d9-dd1ef23a2d6d"
      },
      "outputs": [
        {
          "data": {
            "text/html": [
              "<style type=\"text/css\">\n",
              "</style>\n",
              "<table id=\"T_52b84\">\n",
              "  <thead>\n",
              "    <tr>\n",
              "      <th id=\"T_52b84_level0_col0\" class=\"col_heading level0 col0\" >customer_id</th>\n",
              "      <th id=\"T_52b84_level0_col1\" class=\"col_heading level0 col1\" >satisfaction_score</th>\n",
              "      <th id=\"T_52b84_level0_col2\" class=\"col_heading level0 col2\" >status</th>\n",
              "      <th id=\"T_52b84_level0_col3\" class=\"col_heading level0 col3\" >churn_label</th>\n",
              "      <th id=\"T_52b84_level0_col4\" class=\"col_heading level0 col4\" >churn_score</th>\n",
              "      <th id=\"T_52b84_level0_col5\" class=\"col_heading level0 col5\" >cltv</th>\n",
              "      <th id=\"T_52b84_level0_col6\" class=\"col_heading level0 col6\" >churn_category</th>\n",
              "      <th id=\"T_52b84_level0_col7\" class=\"col_heading level0 col7\" >churn_reason</th>\n",
              "    </tr>\n",
              "  </thead>\n",
              "  <tbody>\n",
              "    <tr>\n",
              "      <td id=\"T_52b84_row0_col0\" class=\"data row0 col0\" >7622-FWGEW</td>\n",
              "      <td id=\"T_52b84_row0_col1\" class=\"data row0 col1\" >3</td>\n",
              "      <td id=\"T_52b84_row0_col2\" class=\"data row0 col2\" >Stayed</td>\n",
              "      <td id=\"T_52b84_row0_col3\" class=\"data row0 col3\" >No</td>\n",
              "      <td id=\"T_52b84_row0_col4\" class=\"data row0 col4\" >70</td>\n",
              "      <td id=\"T_52b84_row0_col5\" class=\"data row0 col5\" >6500</td>\n",
              "      <td id=\"T_52b84_row0_col6\" class=\"data row0 col6\" >nan</td>\n",
              "      <td id=\"T_52b84_row0_col7\" class=\"data row0 col7\" >nan</td>\n",
              "    </tr>\n",
              "    <tr>\n",
              "      <td id=\"T_52b84_row1_col0\" class=\"data row1 col0\" >6024-RUGGH</td>\n",
              "      <td id=\"T_52b84_row1_col1\" class=\"data row1 col1\" >3</td>\n",
              "      <td id=\"T_52b84_row1_col2\" class=\"data row1 col2\" >Stayed</td>\n",
              "      <td id=\"T_52b84_row1_col3\" class=\"data row1 col3\" >No</td>\n",
              "      <td id=\"T_52b84_row1_col4\" class=\"data row1 col4\" >62</td>\n",
              "      <td id=\"T_52b84_row1_col5\" class=\"data row1 col5\" >6499</td>\n",
              "      <td id=\"T_52b84_row1_col6\" class=\"data row1 col6\" >nan</td>\n",
              "      <td id=\"T_52b84_row1_col7\" class=\"data row1 col7\" >nan</td>\n",
              "    </tr>\n",
              "    <tr>\n",
              "      <td id=\"T_52b84_row2_col0\" class=\"data row2 col0\" >0383-CLDDA</td>\n",
              "      <td id=\"T_52b84_row2_col1\" class=\"data row2 col1\" >3</td>\n",
              "      <td id=\"T_52b84_row2_col2\" class=\"data row2 col2\" >Stayed</td>\n",
              "      <td id=\"T_52b84_row2_col3\" class=\"data row2 col3\" >No</td>\n",
              "      <td id=\"T_52b84_row2_col4\" class=\"data row2 col4\" >37</td>\n",
              "      <td id=\"T_52b84_row2_col5\" class=\"data row2 col5\" >6499</td>\n",
              "      <td id=\"T_52b84_row2_col6\" class=\"data row2 col6\" >nan</td>\n",
              "      <td id=\"T_52b84_row2_col7\" class=\"data row2 col7\" >nan</td>\n",
              "    </tr>\n",
              "    <tr>\n",
              "      <td id=\"T_52b84_row3_col0\" class=\"data row3 col0\" >2683-JXWQQ</td>\n",
              "      <td id=\"T_52b84_row3_col1\" class=\"data row3 col1\" >3</td>\n",
              "      <td id=\"T_52b84_row3_col2\" class=\"data row3 col2\" >Stayed</td>\n",
              "      <td id=\"T_52b84_row3_col3\" class=\"data row3 col3\" >No</td>\n",
              "      <td id=\"T_52b84_row3_col4\" class=\"data row3 col4\" >64</td>\n",
              "      <td id=\"T_52b84_row3_col5\" class=\"data row3 col5\" >6495</td>\n",
              "      <td id=\"T_52b84_row3_col6\" class=\"data row3 col6\" >nan</td>\n",
              "      <td id=\"T_52b84_row3_col7\" class=\"data row3 col7\" >nan</td>\n",
              "    </tr>\n",
              "    <tr>\n",
              "      <td id=\"T_52b84_row4_col0\" class=\"data row4 col0\" >4114-QMKVN</td>\n",
              "      <td id=\"T_52b84_row4_col1\" class=\"data row4 col1\" >3</td>\n",
              "      <td id=\"T_52b84_row4_col2\" class=\"data row4 col2\" >Stayed</td>\n",
              "      <td id=\"T_52b84_row4_col3\" class=\"data row4 col3\" >No</td>\n",
              "      <td id=\"T_52b84_row4_col4\" class=\"data row4 col4\" >53</td>\n",
              "      <td id=\"T_52b84_row4_col5\" class=\"data row4 col5\" >6494</td>\n",
              "      <td id=\"T_52b84_row4_col6\" class=\"data row4 col6\" >nan</td>\n",
              "      <td id=\"T_52b84_row4_col7\" class=\"data row4 col7\" >nan</td>\n",
              "    </tr>\n",
              "    <tr>\n",
              "      <td id=\"T_52b84_row5_col0\" class=\"data row5 col0\" >8894-JVDCV</td>\n",
              "      <td id=\"T_52b84_row5_col1\" class=\"data row5 col1\" >4</td>\n",
              "      <td id=\"T_52b84_row5_col2\" class=\"data row5 col2\" >Stayed</td>\n",
              "      <td id=\"T_52b84_row5_col3\" class=\"data row5 col3\" >No</td>\n",
              "      <td id=\"T_52b84_row5_col4\" class=\"data row5 col4\" >43</td>\n",
              "      <td id=\"T_52b84_row5_col5\" class=\"data row5 col5\" >6494</td>\n",
              "      <td id=\"T_52b84_row5_col6\" class=\"data row5 col6\" >nan</td>\n",
              "      <td id=\"T_52b84_row5_col7\" class=\"data row5 col7\" >nan</td>\n",
              "    </tr>\n",
              "    <tr>\n",
              "      <td id=\"T_52b84_row6_col0\" class=\"data row6 col0\" >4531-AUZNK</td>\n",
              "      <td id=\"T_52b84_row6_col1\" class=\"data row6 col1\" >3</td>\n",
              "      <td id=\"T_52b84_row6_col2\" class=\"data row6 col2\" >Stayed</td>\n",
              "      <td id=\"T_52b84_row6_col3\" class=\"data row6 col3\" >No</td>\n",
              "      <td id=\"T_52b84_row6_col4\" class=\"data row6 col4\" >21</td>\n",
              "      <td id=\"T_52b84_row6_col5\" class=\"data row6 col5\" >6492</td>\n",
              "      <td id=\"T_52b84_row6_col6\" class=\"data row6 col6\" >nan</td>\n",
              "      <td id=\"T_52b84_row6_col7\" class=\"data row6 col7\" >nan</td>\n",
              "    </tr>\n",
              "    <tr>\n",
              "      <td id=\"T_52b84_row7_col0\" class=\"data row7 col0\" >1658-XUHBX</td>\n",
              "      <td id=\"T_52b84_row7_col1\" class=\"data row7 col1\" >3</td>\n",
              "      <td id=\"T_52b84_row7_col2\" class=\"data row7 col2\" >Stayed</td>\n",
              "      <td id=\"T_52b84_row7_col3\" class=\"data row7 col3\" >No</td>\n",
              "      <td id=\"T_52b84_row7_col4\" class=\"data row7 col4\" >21</td>\n",
              "      <td id=\"T_52b84_row7_col5\" class=\"data row7 col5\" >6492</td>\n",
              "      <td id=\"T_52b84_row7_col6\" class=\"data row7 col6\" >nan</td>\n",
              "      <td id=\"T_52b84_row7_col7\" class=\"data row7 col7\" >nan</td>\n",
              "    </tr>\n",
              "    <tr>\n",
              "      <td id=\"T_52b84_row8_col0\" class=\"data row8 col0\" >2181-TIDSV</td>\n",
              "      <td id=\"T_52b84_row8_col1\" class=\"data row8 col1\" >3</td>\n",
              "      <td id=\"T_52b84_row8_col2\" class=\"data row8 col2\" >Stayed</td>\n",
              "      <td id=\"T_52b84_row8_col3\" class=\"data row8 col3\" >No</td>\n",
              "      <td id=\"T_52b84_row8_col4\" class=\"data row8 col4\" >70</td>\n",
              "      <td id=\"T_52b84_row8_col5\" class=\"data row8 col5\" >6492</td>\n",
              "      <td id=\"T_52b84_row8_col6\" class=\"data row8 col6\" >nan</td>\n",
              "      <td id=\"T_52b84_row8_col7\" class=\"data row8 col7\" >nan</td>\n",
              "    </tr>\n",
              "    <tr>\n",
              "      <td id=\"T_52b84_row9_col0\" class=\"data row9 col0\" >0675-NCDYU</td>\n",
              "      <td id=\"T_52b84_row9_col1\" class=\"data row9 col1\" >3</td>\n",
              "      <td id=\"T_52b84_row9_col2\" class=\"data row9 col2\" >Stayed</td>\n",
              "      <td id=\"T_52b84_row9_col3\" class=\"data row9 col3\" >No</td>\n",
              "      <td id=\"T_52b84_row9_col4\" class=\"data row9 col4\" >74</td>\n",
              "      <td id=\"T_52b84_row9_col5\" class=\"data row9 col5\" >6491</td>\n",
              "      <td id=\"T_52b84_row9_col6\" class=\"data row9 col6\" >nan</td>\n",
              "      <td id=\"T_52b84_row9_col7\" class=\"data row9 col7\" >nan</td>\n",
              "    </tr>\n",
              "    <tr>\n",
              "      <td id=\"T_52b84_row10_col0\" class=\"data row10 col0\" >...</td>\n",
              "      <td id=\"T_52b84_row10_col1\" class=\"data row10 col1\" >...</td>\n",
              "      <td id=\"T_52b84_row10_col2\" class=\"data row10 col2\" >...</td>\n",
              "      <td id=\"T_52b84_row10_col3\" class=\"data row10 col3\" >...</td>\n",
              "      <td id=\"T_52b84_row10_col4\" class=\"data row10 col4\" >...</td>\n",
              "      <td id=\"T_52b84_row10_col5\" class=\"data row10 col5\" >...</td>\n",
              "      <td id=\"T_52b84_row10_col6\" class=\"data row10 col6\" >...</td>\n",
              "      <td id=\"T_52b84_row10_col7\" class=\"data row10 col7\" >...</td>\n",
              "    </tr>\n",
              "  </tbody>\n",
              "</table>\n"
            ],
            "text/plain": [
              "<pandas.io.formats.style.Styler at 0x158629b90>"
            ]
          },
          "metadata": {},
          "output_type": "display_data"
        }
      ],
      "source": [
        "Select * from anjel-project.Telco_Churn.Customer_Status Order by cltv desc"
      ]
    },
    {
      "cell_type": "markdown",
      "metadata": {
        "id": "18q1cYos6wT5"
      },
      "source": [
        "<a id=\"D.3.\"></a>\n",
        "## <b>D.3. <span style='color:#0B2F9F'>Kombinasi <i>Ascending</i> & <i>Descending</i> saat Mengurutkan Data</span></b>"
      ]
    },
    {
      "cell_type": "markdown",
      "metadata": {
        "id": "EShoTA_p6wT5"
      },
      "source": [
        "#### <i><b><span style='color:#55679C'>Quest</span> : Tampilkan 10 data pada tabel customer_status namun urutkan berdasarkan customer_id dari yang terkecil hingga yang terbesar dan urutkan pula cltv dari yang terbesar hingga yang terkecil!</b></i>"
      ]
    },
    {
      "cell_type": "code",
      "execution_count": null,
      "metadata": {
        "id": "0blEuEhC6wT5",
        "outputId": "1eb7f351-5268-4941-c608-1ac1010c26dc"
      },
      "outputs": [
        {
          "data": {
            "text/html": [
              "<style type=\"text/css\">\n",
              "</style>\n",
              "<table id=\"T_0517e\">\n",
              "  <thead>\n",
              "    <tr>\n",
              "      <th id=\"T_0517e_level0_col0\" class=\"col_heading level0 col0\" >customer_id</th>\n",
              "      <th id=\"T_0517e_level0_col1\" class=\"col_heading level0 col1\" >satisfaction_score</th>\n",
              "      <th id=\"T_0517e_level0_col2\" class=\"col_heading level0 col2\" >status</th>\n",
              "      <th id=\"T_0517e_level0_col3\" class=\"col_heading level0 col3\" >churn_label</th>\n",
              "      <th id=\"T_0517e_level0_col4\" class=\"col_heading level0 col4\" >churn_score</th>\n",
              "      <th id=\"T_0517e_level0_col5\" class=\"col_heading level0 col5\" >cltv</th>\n",
              "      <th id=\"T_0517e_level0_col6\" class=\"col_heading level0 col6\" >churn_category</th>\n",
              "      <th id=\"T_0517e_level0_col7\" class=\"col_heading level0 col7\" >churn_reason</th>\n",
              "    </tr>\n",
              "  </thead>\n",
              "  <tbody>\n",
              "    <tr>\n",
              "      <td id=\"T_0517e_row0_col0\" class=\"data row0 col0\" >5089-IFSDP</td>\n",
              "      <td id=\"T_0517e_row0_col1\" class=\"data row0 col1\" >1</td>\n",
              "      <td id=\"T_0517e_row0_col2\" class=\"data row0 col2\" >Churned</td>\n",
              "      <td id=\"T_0517e_row0_col3\" class=\"data row0 col3\" >Yes</td>\n",
              "      <td id=\"T_0517e_row0_col4\" class=\"data row0 col4\" >89</td>\n",
              "      <td id=\"T_0517e_row0_col5\" class=\"data row0 col5\" >6424</td>\n",
              "      <td id=\"T_0517e_row0_col6\" class=\"data row0 col6\" >Dissatisfaction</td>\n",
              "      <td id=\"T_0517e_row0_col7\" class=\"data row0 col7\" >Product dissatisfaction</td>\n",
              "    </tr>\n",
              "    <tr>\n",
              "      <td id=\"T_0517e_row1_col0\" class=\"data row1 col0\" >1891-FZYSA</td>\n",
              "      <td id=\"T_0517e_row1_col1\" class=\"data row1 col1\" >1</td>\n",
              "      <td id=\"T_0517e_row1_col2\" class=\"data row1 col2\" >Churned</td>\n",
              "      <td id=\"T_0517e_row1_col3\" class=\"data row1 col3\" >Yes</td>\n",
              "      <td id=\"T_0517e_row1_col4\" class=\"data row1 col4\" >82</td>\n",
              "      <td id=\"T_0517e_row1_col5\" class=\"data row1 col5\" >6363</td>\n",
              "      <td id=\"T_0517e_row1_col6\" class=\"data row1 col6\" >Competitor</td>\n",
              "      <td id=\"T_0517e_row1_col7\" class=\"data row1 col7\" >Competitor had better devices</td>\n",
              "    </tr>\n",
              "    <tr>\n",
              "      <td id=\"T_0517e_row2_col0\" class=\"data row2 col0\" >0617-AQNWT</td>\n",
              "      <td id=\"T_0517e_row2_col1\" class=\"data row2 col1\" >1</td>\n",
              "      <td id=\"T_0517e_row2_col2\" class=\"data row2 col2\" >Churned</td>\n",
              "      <td id=\"T_0517e_row2_col3\" class=\"data row2 col3\" >Yes</td>\n",
              "      <td id=\"T_0517e_row2_col4\" class=\"data row2 col4\" >66</td>\n",
              "      <td id=\"T_0517e_row2_col5\" class=\"data row2 col5\" >6347</td>\n",
              "      <td id=\"T_0517e_row2_col6\" class=\"data row2 col6\" >Competitor</td>\n",
              "      <td id=\"T_0517e_row2_col7\" class=\"data row2 col7\" >Competitor made better offer</td>\n",
              "    </tr>\n",
              "    <tr>\n",
              "      <td id=\"T_0517e_row3_col0\" class=\"data row3 col0\" >4355-HBJHH</td>\n",
              "      <td id=\"T_0517e_row3_col1\" class=\"data row3 col1\" >1</td>\n",
              "      <td id=\"T_0517e_row3_col2\" class=\"data row3 col2\" >Churned</td>\n",
              "      <td id=\"T_0517e_row3_col3\" class=\"data row3 col3\" >Yes</td>\n",
              "      <td id=\"T_0517e_row3_col4\" class=\"data row3 col4\" >77</td>\n",
              "      <td id=\"T_0517e_row3_col5\" class=\"data row3 col5\" >6289</td>\n",
              "      <td id=\"T_0517e_row3_col6\" class=\"data row3 col6\" >Price</td>\n",
              "      <td id=\"T_0517e_row3_col7\" class=\"data row3 col7\" >Price too high</td>\n",
              "    </tr>\n",
              "    <tr>\n",
              "      <td id=\"T_0517e_row4_col0\" class=\"data row4 col0\" >4913-EHYUI</td>\n",
              "      <td id=\"T_0517e_row4_col1\" class=\"data row4 col1\" >1</td>\n",
              "      <td id=\"T_0517e_row4_col2\" class=\"data row4 col2\" >Churned</td>\n",
              "      <td id=\"T_0517e_row4_col3\" class=\"data row4 col3\" >Yes</td>\n",
              "      <td id=\"T_0517e_row4_col4\" class=\"data row4 col4\" >91</td>\n",
              "      <td id=\"T_0517e_row4_col5\" class=\"data row4 col5\" >6268</td>\n",
              "      <td id=\"T_0517e_row4_col6\" class=\"data row4 col6\" >Competitor</td>\n",
              "      <td id=\"T_0517e_row4_col7\" class=\"data row4 col7\" >Competitor offered higher download speeds</td>\n",
              "    </tr>\n",
              "    <tr>\n",
              "      <td id=\"T_0517e_row5_col0\" class=\"data row5 col0\" >8199-ZLLSA</td>\n",
              "      <td id=\"T_0517e_row5_col1\" class=\"data row5 col1\" >1</td>\n",
              "      <td id=\"T_0517e_row5_col2\" class=\"data row5 col2\" >Churned</td>\n",
              "      <td id=\"T_0517e_row5_col3\" class=\"data row5 col3\" >Yes</td>\n",
              "      <td id=\"T_0517e_row5_col4\" class=\"data row5 col4\" >91</td>\n",
              "      <td id=\"T_0517e_row5_col5\" class=\"data row5 col5\" >6255</td>\n",
              "      <td id=\"T_0517e_row5_col6\" class=\"data row5 col6\" >Competitor</td>\n",
              "      <td id=\"T_0517e_row5_col7\" class=\"data row5 col7\" >Competitor had better devices</td>\n",
              "    </tr>\n",
              "    <tr>\n",
              "      <td id=\"T_0517e_row6_col0\" class=\"data row6 col0\" >0565-IYCGT</td>\n",
              "      <td id=\"T_0517e_row6_col1\" class=\"data row6 col1\" >1</td>\n",
              "      <td id=\"T_0517e_row6_col2\" class=\"data row6 col2\" >Churned</td>\n",
              "      <td id=\"T_0517e_row6_col3\" class=\"data row6 col3\" >Yes</td>\n",
              "      <td id=\"T_0517e_row6_col4\" class=\"data row6 col4\" >93</td>\n",
              "      <td id=\"T_0517e_row6_col5\" class=\"data row6 col5\" >6230</td>\n",
              "      <td id=\"T_0517e_row6_col6\" class=\"data row6 col6\" >Competitor</td>\n",
              "      <td id=\"T_0517e_row6_col7\" class=\"data row6 col7\" >Competitor made better offer</td>\n",
              "    </tr>\n",
              "    <tr>\n",
              "      <td id=\"T_0517e_row7_col0\" class=\"data row7 col0\" >2834-SPCJV</td>\n",
              "      <td id=\"T_0517e_row7_col1\" class=\"data row7 col1\" >1</td>\n",
              "      <td id=\"T_0517e_row7_col2\" class=\"data row7 col2\" >Churned</td>\n",
              "      <td id=\"T_0517e_row7_col3\" class=\"data row7 col3\" >Yes</td>\n",
              "      <td id=\"T_0517e_row7_col4\" class=\"data row7 col4\" >75</td>\n",
              "      <td id=\"T_0517e_row7_col5\" class=\"data row7 col5\" >6216</td>\n",
              "      <td id=\"T_0517e_row7_col6\" class=\"data row7 col6\" >Competitor</td>\n",
              "      <td id=\"T_0517e_row7_col7\" class=\"data row7 col7\" >Competitor had better devices</td>\n",
              "    </tr>\n",
              "    <tr>\n",
              "      <td id=\"T_0517e_row8_col0\" class=\"data row8 col0\" >3870-MQAMG</td>\n",
              "      <td id=\"T_0517e_row8_col1\" class=\"data row8 col1\" >1</td>\n",
              "      <td id=\"T_0517e_row8_col2\" class=\"data row8 col2\" >Churned</td>\n",
              "      <td id=\"T_0517e_row8_col3\" class=\"data row8 col3\" >Yes</td>\n",
              "      <td id=\"T_0517e_row8_col4\" class=\"data row8 col4\" >90</td>\n",
              "      <td id=\"T_0517e_row8_col5\" class=\"data row8 col5\" >6189</td>\n",
              "      <td id=\"T_0517e_row8_col6\" class=\"data row8 col6\" >Competitor</td>\n",
              "      <td id=\"T_0517e_row8_col7\" class=\"data row8 col7\" >Competitor had better devices</td>\n",
              "    </tr>\n",
              "    <tr>\n",
              "      <td id=\"T_0517e_row9_col0\" class=\"data row9 col0\" >2225-ZRGSG</td>\n",
              "      <td id=\"T_0517e_row9_col1\" class=\"data row9 col1\" >1</td>\n",
              "      <td id=\"T_0517e_row9_col2\" class=\"data row9 col2\" >Churned</td>\n",
              "      <td id=\"T_0517e_row9_col3\" class=\"data row9 col3\" >Yes</td>\n",
              "      <td id=\"T_0517e_row9_col4\" class=\"data row9 col4\" >95</td>\n",
              "      <td id=\"T_0517e_row9_col5\" class=\"data row9 col5\" >6173</td>\n",
              "      <td id=\"T_0517e_row9_col6\" class=\"data row9 col6\" >Price</td>\n",
              "      <td id=\"T_0517e_row9_col7\" class=\"data row9 col7\" >Long distance charges</td>\n",
              "    </tr>\n",
              "    <tr>\n",
              "      <td id=\"T_0517e_row10_col0\" class=\"data row10 col0\" >...</td>\n",
              "      <td id=\"T_0517e_row10_col1\" class=\"data row10 col1\" >...</td>\n",
              "      <td id=\"T_0517e_row10_col2\" class=\"data row10 col2\" >...</td>\n",
              "      <td id=\"T_0517e_row10_col3\" class=\"data row10 col3\" >...</td>\n",
              "      <td id=\"T_0517e_row10_col4\" class=\"data row10 col4\" >...</td>\n",
              "      <td id=\"T_0517e_row10_col5\" class=\"data row10 col5\" >...</td>\n",
              "      <td id=\"T_0517e_row10_col6\" class=\"data row10 col6\" >...</td>\n",
              "      <td id=\"T_0517e_row10_col7\" class=\"data row10 col7\" >...</td>\n",
              "    </tr>\n",
              "  </tbody>\n",
              "</table>\n"
            ],
            "text/plain": [
              "<pandas.io.formats.style.Styler at 0x15334a290>"
            ]
          },
          "metadata": {},
          "output_type": "display_data"
        }
      ],
      "source": [
        "Select * from anjel-project.Telco_Churn.Customer_Status order by customer_id asc, cltv desc limit 10"
      ]
    },
    {
      "cell_type": "markdown",
      "metadata": {
        "id": "5XvZx1q76wT5"
      },
      "source": [
        "#### <i><b><span style='color:#55679C'>Quest</span> : Siapa saja customer yang berada di top 10 nilai cltv terbesar? Tampilkan kolom customer_id, cltv dan status pada tabel customer_status, namun ubah sementara nama kolom cltv menjadi customer_lifetime_value agar lebih mudah diinterpretasikan</b></i>"
      ]
    },
    {
      "cell_type": "code",
      "execution_count": null,
      "metadata": {
        "id": "VVbjEtAP6wT5",
        "outputId": "91f4da57-5e99-4600-f143-1ba1f4410b49"
      },
      "outputs": [
        {
          "data": {
            "text/html": [
              "<style type=\"text/css\">\n",
              "</style>\n",
              "<table id=\"T_62ffc\">\n",
              "  <thead>\n",
              "    <tr>\n",
              "      <th id=\"T_62ffc_level0_col0\" class=\"col_heading level0 col0\" >customer_id</th>\n",
              "      <th id=\"T_62ffc_level0_col1\" class=\"col_heading level0 col1\" >customer_lifetime_value</th>\n",
              "      <th id=\"T_62ffc_level0_col2\" class=\"col_heading level0 col2\" >status</th>\n",
              "    </tr>\n",
              "  </thead>\n",
              "  <tbody>\n",
              "    <tr>\n",
              "      <td id=\"T_62ffc_row0_col0\" class=\"data row0 col0\" >7622-FWGEW</td>\n",
              "      <td id=\"T_62ffc_row0_col1\" class=\"data row0 col1\" >6500</td>\n",
              "      <td id=\"T_62ffc_row0_col2\" class=\"data row0 col2\" >Stayed</td>\n",
              "    </tr>\n",
              "    <tr>\n",
              "      <td id=\"T_62ffc_row1_col0\" class=\"data row1 col0\" >6024-RUGGH</td>\n",
              "      <td id=\"T_62ffc_row1_col1\" class=\"data row1 col1\" >6499</td>\n",
              "      <td id=\"T_62ffc_row1_col2\" class=\"data row1 col2\" >Stayed</td>\n",
              "    </tr>\n",
              "    <tr>\n",
              "      <td id=\"T_62ffc_row2_col0\" class=\"data row2 col0\" >0383-CLDDA</td>\n",
              "      <td id=\"T_62ffc_row2_col1\" class=\"data row2 col1\" >6499</td>\n",
              "      <td id=\"T_62ffc_row2_col2\" class=\"data row2 col2\" >Stayed</td>\n",
              "    </tr>\n",
              "    <tr>\n",
              "      <td id=\"T_62ffc_row3_col0\" class=\"data row3 col0\" >2683-JXWQQ</td>\n",
              "      <td id=\"T_62ffc_row3_col1\" class=\"data row3 col1\" >6495</td>\n",
              "      <td id=\"T_62ffc_row3_col2\" class=\"data row3 col2\" >Stayed</td>\n",
              "    </tr>\n",
              "    <tr>\n",
              "      <td id=\"T_62ffc_row4_col0\" class=\"data row4 col0\" >4114-QMKVN</td>\n",
              "      <td id=\"T_62ffc_row4_col1\" class=\"data row4 col1\" >6494</td>\n",
              "      <td id=\"T_62ffc_row4_col2\" class=\"data row4 col2\" >Stayed</td>\n",
              "    </tr>\n",
              "    <tr>\n",
              "      <td id=\"T_62ffc_row5_col0\" class=\"data row5 col0\" >8894-JVDCV</td>\n",
              "      <td id=\"T_62ffc_row5_col1\" class=\"data row5 col1\" >6494</td>\n",
              "      <td id=\"T_62ffc_row5_col2\" class=\"data row5 col2\" >Stayed</td>\n",
              "    </tr>\n",
              "    <tr>\n",
              "      <td id=\"T_62ffc_row6_col0\" class=\"data row6 col0\" >4531-AUZNK</td>\n",
              "      <td id=\"T_62ffc_row6_col1\" class=\"data row6 col1\" >6492</td>\n",
              "      <td id=\"T_62ffc_row6_col2\" class=\"data row6 col2\" >Stayed</td>\n",
              "    </tr>\n",
              "    <tr>\n",
              "      <td id=\"T_62ffc_row7_col0\" class=\"data row7 col0\" >1658-XUHBX</td>\n",
              "      <td id=\"T_62ffc_row7_col1\" class=\"data row7 col1\" >6492</td>\n",
              "      <td id=\"T_62ffc_row7_col2\" class=\"data row7 col2\" >Stayed</td>\n",
              "    </tr>\n",
              "    <tr>\n",
              "      <td id=\"T_62ffc_row8_col0\" class=\"data row8 col0\" >2181-TIDSV</td>\n",
              "      <td id=\"T_62ffc_row8_col1\" class=\"data row8 col1\" >6492</td>\n",
              "      <td id=\"T_62ffc_row8_col2\" class=\"data row8 col2\" >Stayed</td>\n",
              "    </tr>\n",
              "    <tr>\n",
              "      <td id=\"T_62ffc_row9_col0\" class=\"data row9 col0\" >0675-NCDYU</td>\n",
              "      <td id=\"T_62ffc_row9_col1\" class=\"data row9 col1\" >6491</td>\n",
              "      <td id=\"T_62ffc_row9_col2\" class=\"data row9 col2\" >Stayed</td>\n",
              "    </tr>\n",
              "  </tbody>\n",
              "</table>\n"
            ],
            "text/plain": [
              "<pandas.io.formats.style.Styler at 0x156dfcb50>"
            ]
          },
          "metadata": {},
          "output_type": "display_data"
        }
      ],
      "source": [
        "Select customer_id, cltv as customer_lifetime_value, status from anjel-project.Telco_Churn.Customer_Status order by cltv desc limit 10"
      ]
    },
    {
      "cell_type": "markdown",
      "metadata": {
        "id": "tzF4wZeK6wT6"
      },
      "source": [
        "Data Source : <i>https://www.ibm.com/docs/en/cognos-analytics/11.1.0?topic=samples-telco-customer-churn</i>\n",
        "\n",
        "---\n",
        "\n",
        "<br>\n",
        "<a href=\"https://www.linkedin.com/in/anjeliarahma/\"><img src=\"https://img.shields.io/badge/-© 2024  Anjelia Rahmawati-417DAC?style=for-the-badge&logoColor=white\"/></a>"
      ]
    }
  ],
  "metadata": {
    "kernelspec": {
      "display_name": "Python 3",
      "language": "python",
      "name": "python3"
    },
    "language_info": {
      "codemirror_mode": {
        "name": "ipython",
        "version": 3
      },
      "file_extension": ".py",
      "mimetype": "text/x-python",
      "name": "python",
      "nbconvert_exporter": "python",
      "pygments_lexer": "ipython3",
      "version": "3.11.8"
    },
    "colab": {
      "provenance": []
    }
  },
  "nbformat": 4,
  "nbformat_minor": 0
}